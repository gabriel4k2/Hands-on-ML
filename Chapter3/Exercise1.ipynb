{
 "cells": [
  {
   "cell_type": "code",
   "execution_count": 42,
   "id": "hungry-shower",
   "metadata": {},
   "outputs": [],
   "source": [
    "from utils import *                          \n",
    "from sklearn.model_selection import StratifiedShuffleSplit\n",
    "from sklearn.neighbors import KNeighborsClassifier\n",
    "from sklearn.model_selection import  cross_val_score\n",
    "from sklearn.model_selection import GridSearchCV\n",
    "from sklearn.metrics import accuracy_score\n",
    "import matplotlib.pyplot as plt\n",
    "import pandas as pd                               \n",
    "\n",
    "def show_a_digit(arr, index):\n",
    "    this_digit = arr.iloc[index] \n",
    "    this_digit_image = this_digit.values.reshape(28,28)\n",
    "    plt.imshow(this_digit_image, cmap='binary')\n",
    "    plt.axis('off')\n",
    "                                             "
   ]
  },
  {
   "cell_type": "code",
   "execution_count": 2,
   "id": "alive-techno",
   "metadata": {},
   "outputs": [],
   "source": [
    "#Only run once (to get data)                 \n",
    "mnist_data = fetch_openml('mnist_784', version=1, as_frame=True)               \n",
    "X = mnist_data['data']  \n",
    "Y = mnist_data['target']     # X_train, Y_train, X_test, Y_test = X[:6\n"
   ]
  },
  {
   "cell_type": "code",
   "execution_count": 3,
   "id": "magnetic-requirement",
   "metadata": {},
   "outputs": [],
   "source": [
    "sss = StratifiedShuffleSplit(n_splits=1, test_size=0.2, random_state=42)"
   ]
  },
  {
   "cell_type": "code",
   "execution_count": 4,
   "id": "collect-layer",
   "metadata": {},
   "outputs": [
    {
     "name": "stdout",
     "output_type": "stream",
     "text": [
      "1\n"
     ]
    }
   ],
   "source": [
    "# train_index, test_index=  sss.split(X, Y)\n",
    "i = 0\n",
    "for train_index, test_index in sss.split(X, Y):\n",
    "    X_strat_train_set = X.loc[train_index]\n",
    "    X_strat_test_set =  X.loc[test_index]\n",
    "    Y_strat_train_set = Y.loc[train_index]\n",
    "    Y_strat_test_set = Y.loc[test_index]\n",
    "    i = i +1\n",
    "\n",
    "    \n",
    "print(i)"
   ]
  },
  {
   "cell_type": "code",
   "execution_count": 5,
   "id": "spoken-bandwidth",
   "metadata": {},
   "outputs": [],
   "source": [
    " knn_clf = KNeighborsClassifier(n_jobs=2)"
   ]
  },
  {
   "cell_type": "code",
   "execution_count": 6,
   "id": "complex-spray",
   "metadata": {},
   "outputs": [
    {
     "data": {
      "image/png": "[encoded data removed]",
      "text/plain": [
       "<Figure size 432x288 with 1 Axes>"
      ]
     },
     "metadata": {
      "needs_background": "light"
     },
     "output_type": "display_data"
    }
   ],
   "source": [
    "show_a_digit(X_strat_train_set, 3)\n"
   ]
  },
  {
   "cell_type": "code",
   "execution_count": 7,
   "id": "virgin-connecticut",
   "metadata": {},
   "outputs": [
    {
     "data": {
      "text/plain": [
       "KNeighborsClassifier(n_jobs=2)"
      ]
     },
     "execution_count": 7,
     "metadata": {},
     "output_type": "execute_result"
    }
   ],
   "source": [
    "knn_clf.fit(X_strat_train_set, Y_strat_train_set)"
   ]
  },
  {
   "cell_type": "code",
   "execution_count": 8,
   "id": "loved-subdivision",
   "metadata": {},
   "outputs": [
    {
     "data": {
      "text/plain": [
       "array(['9'], dtype=object)"
      ]
     },
     "execution_count": 8,
     "metadata": {},
     "output_type": "execute_result"
    }
   ],
   "source": [
    "knn_clf.predict([X_strat_train_set.iloc[3]])"
   ]
  },
  {
   "cell_type": "code",
   "execution_count": null,
   "id": "equal-string",
   "metadata": {},
   "outputs": [],
   "source": []
  },
  {
   "cell_type": "code",
   "execution_count": null,
   "id": "under-shaft",
   "metadata": {},
   "outputs": [],
   "source": []
  },
  {
   "cell_type": "code",
   "execution_count": 11,
   "id": "structural-manitoba",
   "metadata": {},
   "outputs": [],
   "source": [
    "param_grid = [ {'n_neighbors':[1,3,5,7,13], 'weights': ['uniform', 'distance']}]"
   ]
  },
  {
   "cell_type": "code",
   "execution_count": 12,
   "id": "mechanical-shuttle",
   "metadata": {},
   "outputs": [],
   "source": [
    "grid_search = GridSearchCV(knn_clf, param_grid, cv=3, scoring= 'accuracy', n_jobs=2)"
   ]
  },
  {
   "cell_type": "code",
   "execution_count": 13,
   "id": "engaged-editor",
   "metadata": {},
   "outputs": [
    {
     "data": {
      "text/plain": [
       "GridSearchCV(cv=3, estimator=KNeighborsClassifier(n_jobs=2), n_jobs=2,\n",
       "             param_grid=[{'n_neighbors': [1, 3, 5, 7, 13],\n",
       "                          'weights': ['uniform', 'distance']}],\n",
       "             scoring='accuracy')"
      ]
     },
     "execution_count": 13,
     "metadata": {},
     "output_type": "execute_result"
    }
   ],
   "source": [
    "grid_search.fit(X_strat_train_set, Y_strat_train_set)"
   ]
  },
  {
   "cell_type": "code",
   "execution_count": 15,
   "id": "judicial-aviation",
   "metadata": {},
   "outputs": [
    {
     "data": {
      "text/plain": [
       "{'n_neighbors': 5, 'weights': 'distance'}"
      ]
     },
     "execution_count": 15,
     "metadata": {},
     "output_type": "execute_result"
    }
   ],
   "source": [
    "grid_search.best_params_\n",
    "#best param was {'n_neighbors': 5, 'weights': 'distance'}"
   ]
  },
  {
   "cell_type": "code",
   "execution_count": 37,
   "id": "fallen-criminal",
   "metadata": {},
   "outputs": [],
   "source": [
    "bestKNN = grid_search.best_estimator_"
   ]
  },
  {
   "cell_type": "code",
   "execution_count": 38,
   "id": "equivalent-malaysia",
   "metadata": {},
   "outputs": [],
   "source": []
  },
  {
   "cell_type": "code",
   "execution_count": 39,
   "id": "sixth-margin",
   "metadata": {},
   "outputs": [
    {
     "data": {
      "text/plain": [
       "KNeighborsClassifier(n_jobs=2, weights='distance')"
      ]
     },
     "execution_count": 39,
     "metadata": {},
     "output_type": "execute_result"
    }
   ],
   "source": [
    "bestKNN.fit(X_strat_train_set, Y_strat_train_set)"
   ]
  },
  {
   "cell_type": "code",
   "execution_count": 40,
   "id": "cooperative-bride",
   "metadata": {},
   "outputs": [],
   "source": [
    "#getting accuray on test set:\n",
    "X_pred = bestKNN.predict(X_strat_test_set)"
   ]
  },
  {
   "cell_type": "code",
   "execution_count": 43,
   "id": "invisible-laser",
   "metadata": {},
   "outputs": [
    {
     "data": {
      "text/plain": [
       "0.9708571428571429"
      ]
     },
     "execution_count": 43,
     "metadata": {},
     "output_type": "execute_result"
    }
   ],
   "source": [
    "accuracy_score(X_pred, Y_strat_test_set)"
   ]
  },
  {
   "cell_type": "code",
   "execution_count": null,
   "id": "opposed-gibson",
   "metadata": {},
   "outputs": [],
   "source": []
  }
 ],
 "metadata": {
  "kernelspec": {
   "display_name": "Python 3",
   "language": "python",
   "name": "python3"
  },
  "language_info": {
   "codemirror_mode": {
    "name": "ipython",
    "version": 3
   },
   "file_extension": ".py",
   "mimetype": "text/x-python",
   "name": "python",
   "nbconvert_exporter": "python",
   "pygments_lexer": "ipython3",
   "version": "3.6.9"
  }
 },
 "nbformat": 4,
 "nbformat_minor": 5
}
