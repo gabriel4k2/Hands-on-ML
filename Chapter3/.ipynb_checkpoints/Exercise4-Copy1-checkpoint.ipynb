{
 "cells": [
  {
   "cell_type": "code",
   "execution_count": 22,
   "id": "split-input",
   "metadata": {},
   "outputs": [],
   "source": [
    "import os\n",
    "import tarfile\n",
    "import html2text\n",
    "import string\n",
    "import re\n",
    "from nltk.stem.porter import *\n",
    "\n",
    "from email.parser import Parser\n",
    "from email.policy import default\n",
    "from sklearn.base import *\n",
    "from sklearn.datasets import load_files\n",
    "from sklearn.model_selection import StratifiedShuffleSplit\n",
    "from sklearn.feature_extraction.text import CountVectorizer\n",
    "from sklearn.linear_model import LogisticRegression\n",
    "from sklearn.model_selection import cross_val_score\n",
    "from sklearn.pipeline import Pipeline\n",
    "from sklearn.metrics import precision_score, recall_score\n",
    "\n",
    "dataset_path = \"dataset/\"\n",
    "url_pattern = r'https?://\\S+'\n",
    "number_pattern= r'\\d+(?:\\.\\d*)?(?:[eE][+-]?\\d+)?'\n",
    "only_easy_ham = False\n",
    "email_parser = None\n",
    "htmlconverter = None\n",
    "stemmer = None\n",
    "\n",
    "def extract_bz2(filename, path=\".\"):\n",
    "    with tarfile.open(filename, \"r:bz2\") as tar:\n",
    "        tar.extractall(path)\n",
    "\n",
    "def removeHardHam(data, targets, hard_ham_index):\n",
    "    _to_delete = []\n",
    "    for _index in range(len(data)):\n",
    "        if targets[_index] == int(hard_ham_index):\n",
    "            _to_delete.append(_index)\n",
    "        \n",
    "    return np.delete(data, _to_delete),  np.delete(targets, _to_delete)\n",
    "\n",
    "\n",
    "#The dataset has multiple labels such as easy_ham, easy_ham2,\n",
    "# we want to simply convert to ham or spam\n",
    "def binarizeLabels(targets):\n",
    "    for _index in range(targets.size):\n",
    "        if \"ham\" in targets[_index]:\n",
    "            targets[_index] = \"ham\"\n",
    "        else:\n",
    "            targets[_index] = \"spam\"\n",
    "            \n",
    "    return targets\n",
    "\n",
    "\"\"\"\n",
    "processMessageObj \n",
    "Helper function only process text/plain or text/html. Images/gifs \n",
    "or other multimedia are not useful. Multiparts are also not\n",
    "useful because they will be visited later with walk()\n",
    "\n",
    "\"\"\"\n",
    "def processMessageObj(message_object):\n",
    "    _type = message_object.get_content_type()\n",
    "    _body = None\n",
    "    if _type == \"text/plain\":\n",
    "        _body = message_object.get_payload(decode=True)\n",
    "        _body = _body.decode('latin-1')\n",
    "    elif _type == \"text/html\":\n",
    "        #TODO preprocess html\n",
    "        _body = message_object.get_payload(decode=True)\n",
    "        _body = _body.decode('latin-1')\n",
    "        _body = transformHTMLtoPlain(_body)\n",
    "\n",
    "    return _body\n",
    "\n",
    "def transformHTMLtoPlain(_str, ignore_images=True):\n",
    "    global htmlconverter\n",
    "\n",
    "    if htmlconverter is None:\n",
    "        htmlconverter = html2text.HTML2Text()\n",
    "\n",
    "    if ignore_images:\n",
    "        htmlconverter.ignore_images = True\n",
    "\n",
    "\n",
    "    return htmlconverter.handle(_str)\n",
    "\n",
    "\n",
    "def stemmfy(message):\n",
    "    global stemmer\n",
    "    _new_body = None\n",
    "    if  stemmer is None:\n",
    "        stemmer = PorterStemmer()\n",
    "\n",
    "    for word in message.split():\n",
    "        temp = stemmer.stem(word)\n",
    "        if _new_body is None:\n",
    "            _new_body = temp\n",
    "        else:\n",
    "            _new_body = _new_body + \" \" + temp\n",
    "\n",
    "    return _new_body\n",
    "\n",
    "\n",
    "def getEmailSubject(email_message ):\n",
    "    global email_parser\n",
    "\n",
    "    if email_parser is None:\n",
    "        email_parser = Parser(policy=default)\n",
    "\n",
    "    email_message = email_parser.parsestr(email_message.decode('iso-8859-1')) #UTF-8 does not work (some email have latin chars\n",
    "\n",
    "    return email_message[\"subject\"]\n",
    "\n",
    "\"\"\"\n",
    "Processes the email \"payload\", that is, the actual message. This processing includes parsing the byte stream\n",
    "into an email object, thenn decoding it and finally walking through the \"sections\"\n",
    "\n",
    "input: email_message = a numpy array element, representing a byte stream\n",
    "\n",
    "\"\"\"\n",
    "def processEmailPayload(email_message, to_lower_case, stemm=True, remove_punct = True, substitute_number=True):\n",
    "    body = \"\"\n",
    "    global email_parser\n",
    "\n",
    "    if email_parser is None:\n",
    "        email_parser = Parser(policy=default)\n",
    "\n",
    "    email_message = email_parser.parsestr(email_message.decode('iso-8859-1'))\n",
    "    #UTF-8 does not work (some email have latin chars)\n",
    "\n",
    "\n",
    "\n",
    "    if email_message.is_multipart():\n",
    "        for part in email_message.walk():\n",
    "            _temp = processMessageObj(part)\n",
    "            if _temp is not None:\n",
    "                body = body + _temp\n",
    "\n",
    "    else:\n",
    "        _temp  =  processMessageObj(email_message)\n",
    "        body = body + _temp if _temp is not None else body\n",
    "\n",
    "\n",
    "    if to_lower_case:\n",
    "        body = body.lower()\n",
    "\n",
    "    #URLS are changed always (hardcoded) it makes no sense to allow them (too much noise)\n",
    "    body = re.sub(pattern=url_pattern, repl=' _URL_ ', string=body)\n",
    "\n",
    "    \n",
    "    if substitute_number:\n",
    "        body = re.sub(pattern=number_pattern, repl='NUMBER', string=body)\n",
    "        \n",
    "    if remove_punct:\n",
    "        body = body.translate((str.maketrans('', '', string.punctuation)))\n",
    "\n",
    "\n",
    "\n",
    "        \n",
    "    if stemm:\n",
    "        body = stemmfy(body)\n",
    "    #If the email message is a html message for instance, the body will be reduced to \"none\", then simply convert it\n",
    "    #to a null string (to not crash further steps)...\n",
    "    return body if body is not None else \"\"\n",
    "\n",
    "\n",
    "\n",
    "def convertIndexToString(targets, index_to_string_dict):\n",
    "    new_targets = []\n",
    "    for _target in targets:\n",
    "        new_targets.append( index_to_string_dict.get(_target) )\n",
    "    \n",
    "    return np.asarray(new_targets )\n",
    "\n",
    "class PreprocessStrToEmail(BaseEstimator, TransformerMixin):\n",
    "    def __init__(self,   to_lower_case= False, stemm=True, remove_punct=True, \\\n",
    "                 substitute_number = True): # no *args or **kargs\n",
    "        \n",
    "        self.to_lower_case = to_lower_case\n",
    "        self.stemm = stemm\n",
    "        self.remove_punct = remove_punct\n",
    "        self.substitute_number =  substitute_number\n",
    "\n",
    "    def fit(self, X, y=None):\n",
    "        return self # nothing else to do\n",
    "    def transform(self, X, y=None):\n",
    "        _parser = Parser(policy=default)\n",
    "\n",
    "        return np.array([processEmailPayload(xi, self.to_lower_case, self.stemm, self.remove_punct \\\n",
    "                                            ,   self.substitute_number ) for xi in X])\n",
    " \n",
    "\n",
    "\n",
    "\n",
    "\n",
    "        \n"
   ]
  },
  {
   "cell_type": "code",
   "execution_count": 2,
   "id": "wrong-pattern",
   "metadata": {},
   "outputs": [],
   "source": [
    "os.chdir(\"SpamAssassin\")\n",
    "compressed_files = [x for x in os.listdir()  if x.endswith(\".bz2\")]\n",
    "for _file in compressed_files:    \n",
    "    extract_bz2(_file, path=dataset_path)"
   ]
  },
  {
   "cell_type": "code",
   "execution_count": 3,
   "id": "educated-webmaster",
   "metadata": {},
   "outputs": [],
   "source": [
    "_dataset = load_files(dataset_path)\n",
    "_data = np.array(_dataset.data)\n",
    "_target = _dataset.target\n",
    "_target_names =  _dataset.target_names\n",
    "\n"
   ]
  },
  {
   "cell_type": "markdown",
   "id": "every-uruguay",
   "metadata": {},
   "source": [
    "As we can see below, every data has a categorical label contained in the following set: "
   ]
  },
  {
   "cell_type": "code",
   "execution_count": 4,
   "id": "global-australian",
   "metadata": {},
   "outputs": [
    {
     "name": "stdout",
     "output_type": "stream",
     "text": [
      "['easy_ham', 'easy_ham_2', 'hard_ham', 'spam', 'spam_2']\n"
     ]
    }
   ],
   "source": [
    "print(_target_names)\n"
   ]
  },
  {
   "cell_type": "code",
   "execution_count": 5,
   "id": "loved-dispute",
   "metadata": {},
   "outputs": [],
   "source": [
    "if only_easy_ham:\n",
    "    _hard_ham_index = _target_names.index('hard_ham')\n",
    "    _data, _target = removeHardHam(_data, _target, _hard_ham_index)\n"
   ]
  },
  {
   "cell_type": "markdown",
   "id": "stone-climb",
   "metadata": {},
   "source": [
    "It's desirable to simply set the labels as whether they are ham/spam:"
   ]
  },
  {
   "cell_type": "code",
   "execution_count": 6,
   "id": "earned-passage",
   "metadata": {},
   "outputs": [
    {
     "name": "stdout",
     "output_type": "stream",
     "text": [
      "['spam' 'ham' 'spam' 'ham' 'spam' 'ham' 'ham' 'ham' 'ham' 'ham' 'ham'\n",
      " 'ham' 'ham' 'ham' 'ham' 'ham']\n"
     ]
    }
   ],
   "source": [
    "index_to_str_label = dict()\n",
    "zipped = zip(list(range(_target_names.__len__())), _target_names )\n",
    "for x,y in zipped:\n",
    "    index_to_str_label.update({x:y})\n",
    "\n",
    "_target = convertIndexToString(_target,index_to_str_label )\n",
    "_target = binarizeLabels(_target)\n",
    "\n",
    "print(_target[:16])\n"
   ]
  },
  {
   "cell_type": "markdown",
   "id": "domestic-valuation",
   "metadata": {},
   "source": [
    "As we can see below there is a lot of noise in the message, such as the protocol used which IP sent the message, etc..."
   ]
  },
  {
   "cell_type": "code",
   "execution_count": 7,
   "id": "isolated-formula",
   "metadata": {},
   "outputs": [
    {
     "name": "stdout",
     "output_type": "stream",
     "text": [
      "b\"From razor-users-admin@lists.sourceforge.net  Wed Aug 14 10:48:36 2002\\nReturn-Path: <razor-users-admin@example.sourceforge.net>\\nDelivered-To: yyyy@localhost.netnoteinc.com\\nReceived: from localhost (localhost [127.0.0.1])\\n\\tby phobos.labs.netnoteinc.com (Postfix) with ESMTP id 7FECA43C56\\n\\tfor <jm@localhost>; Wed, 14 Aug 2002 05:46:04 -0400 (EDT)\\nReceived: from phobos [127.0.0.1]\\n\\tby localhost with IMAP (fetchmail-5.9.0)\\n\\tfor jm@localhost (single-drop); Wed, 14 Aug 2002 10:46:04 +0100 (IST)\\nReceived: from usw-sf-list2.sourceforge.net (usw-sf-fw2.sourceforge.net\\n    [216.136.171.252]) by dogma.slashnull.org (8.11.6/8.11.6) with ESMTP id\\n    g7DJEY414900 for <jm-razor@jmason.org>; Tue, 13 Aug 2002 20:14:34 +0100\\nReceived: from usw-sf-list1-b.sourceforge.net ([10.3.1.13]\\n    helo=usw-sf-list1.sourceforge.net) by usw-sf-list2.sourceforge.net with\\n    esmtp (Exim 3.31-VA-mm2 #1 (Debian)) id 17egxh-0005RG-00; Tue,\\n    13 Aug 2002 12:04:13 -0700\\nReceived: from dhcp024-208-195-177.indy.rr.com ([24.208.195.177]\\n    helo=burgers.bubbanfriends.org) by usw-sf-list1.sourceforge.net with esmtp\\n    (Cipher TLSv1:DES-CBC3-SHA:168) (Exim 3.31-VA-mm2 #1 (Debian)) id\\n    17egww-0007lS-00 for <razor-users@lists.sourceforge.net>; Tue,\\n    13 Aug 2002 12:03:27 -0700\\nReceived: from localhost (localhost.localdomain [127.0.0.1]) by\\n    burgers.bubbanfriends.org (Postfix) with ESMTP id 914BE400088;\\n    Tue, 13 Aug 2002 14:03:21 -0500 (EST)\\nReceived: by burgers.bubbanfriends.org (Postfix, from userid 500) id\\n    55F66401A40; Tue, 13 Aug 2002 14:03:20 -0500 (EST)\\nReceived: from localhost (localhost [127.0.0.1]) by\\n    burgers.bubbanfriends.org (Postfix) with ESMTP id 540E7C00CE0;\\n    Tue, 13 Aug 2002 14:03:20 -0500 (EST)\\nFrom: Mike Burger <mburger@bubbanfriends.org>\\nTo: David Raistrick <drais@wow.atlasta.net>\\nCc: Justin Shore <listuser@neo.pittstate.edu>,\\n\\t<razor-users@lists.sourceforge.net>\\nSubject: Re: [Razor-users] Stripping the SpamAssassin report\\nIn-Reply-To: <Pine.BSF.4.21.0208131031280.48923-100000@wow.atlasta.net>\\nMessage-Id: <Pine.LNX.4.44.0208131402170.4408-100000@burgers.bubbanfriends.org>\\nMIME-Version: 1.0\\nContent-Type: TEXT/PLAIN; charset=US-ASCII\\nX-Virus-Scanned: by AMaViS new-20020517\\nSender: razor-users-admin@example.sourceforge.net\\nErrors-To: razor-users-admin@example.sourceforge.net\\nX-Beenthere: razor-users@example.sourceforge.net\\nX-Mailman-Version: 2.0.9-sf.net\\nPrecedence: bulk\\nList-Help: <mailto:razor-users-request@example.sourceforge.net?subject=help>\\nList-Post: <mailto:razor-users@example.sourceforge.net>\\nList-Subscribe: <https://example.sourceforge.net/lists/listinfo/razor-users>,\\n    <mailto:razor-users-request@lists.sourceforge.net?subject=subscribe>\\nList-Id: <razor-users.example.sourceforge.net>\\nList-Unsubscribe: <https://example.sourceforge.net/lists/listinfo/razor-users>,\\n    <mailto:razor-users-request@lists.sourceforge.net?subject=unsubscribe>\\nList-Archive: <http://www.geocrawler.com/redir-sf.php3?list=razor-users>\\nX-Original-Date: Tue, 13 Aug 2002 14:03:20 -0500 (EST)\\nDate: Tue, 13 Aug 2002 14:03:20 -0500 (EST)\\n\\nOn Tue, 13 Aug 2002, David Raistrick wrote:\\n\\n> To actually answer Justin's question, (one can assume that he has\\n> rewrite_subject and report_header turned on because he wants them..and\\n> that he would like to be able to strip the added bits off before he sends\\n> them to razor) something as simple as the following would probably work\\n> just fine.  Just pipe your message through this, then on into\\n> razor-report:\\n\\nI wouldn't make that assumption.  I'd assume that rewrite_subject was on, \\nand report_header was off, because that's the default configuration, and \\nnot everyone knows to go look in the user_prefs file to make those \\nchanges.\\n\\n\\n\\n-------------------------------------------------------\\nThis sf.net email is sponsored by: Dice - The leading online job board\\nfor high-tech professionals. Search and apply for tech jobs today!\\nhttp://seeker.dice.com/seeker.epl?rel_code=31\\n_______________________________________________\\nRazor-users mailing list\\nRazor-users@lists.sourceforge.net\\nhttps://lists.sourceforge.net/lists/listinfo/razor-users\\n\\n\\n\"\n"
     ]
    }
   ],
   "source": [
    "print(_data[164])"
   ]
  },
  {
   "cell_type": "markdown",
   "id": "burning-gauge",
   "metadata": {},
   "source": [
    "The preprocessing will take care to only get the message proper and the subject if the user wants. The other preprocessing hyperparameters are whether to convert to lower case, convert numbers to \"number\", stemm the words and remove punctuation. Below is a fully processed email message."
   ]
  },
  {
   "cell_type": "code",
   "execution_count": 8,
   "id": "proprietary-qualification",
   "metadata": {},
   "outputs": [],
   "source": [
    "pre_process = PreprocessStrToEmail(to_lower_case=True, stemm=True, remove_punct = True )\n",
    "_data_processed_example = pre_process.fit_transform([_data[164]])"
   ]
  },
  {
   "cell_type": "code",
   "execution_count": 9,
   "id": "trained-syntax",
   "metadata": {},
   "outputs": [
    {
     "name": "stdout",
     "output_type": "stream",
     "text": [
      "['on tue number aug number david raistrick wrote to actual answer justin question one can assum that he ha rewritesubject and reporthead turn on becaus he want themand that he would like to be abl to strip the ad bit off befor he send them to razor someth as simpl as the follow would probabl work just fine just pipe your messag through thi then on into razorreport i wouldnt make that assumpt id assum that rewritesubject wa on and reporthead wa off becaus that the default configur and not everyon know to go look in the userpref file to make those chang thi sfnet email is sponsor by dice the lead onlin job board for hightech profession search and appli for tech job today url razorus mail list razoruserslistssourceforgenet url']\n"
     ]
    }
   ],
   "source": [
    "print(_data_processed_example)"
   ]
  },
  {
   "cell_type": "markdown",
   "id": "affected-cylinder",
   "metadata": {},
   "source": [
    "Below is a less preprocessed message. As we can see there is significantly more noise."
   ]
  },
  {
   "cell_type": "code",
   "execution_count": 10,
   "id": "super-japan",
   "metadata": {},
   "outputs": [],
   "source": [
    "pre_process_weaker = PreprocessStrToEmail(to_lower_case=False, stemm=False, remove_punct = False, substitute_number=False)\n",
    "_data_processed_example = pre_process_weaker.fit_transform([_data[164]])"
   ]
  },
  {
   "cell_type": "code",
   "execution_count": 11,
   "id": "comparative-assault",
   "metadata": {},
   "outputs": [
    {
     "name": "stdout",
     "output_type": "stream",
     "text": [
      "[\"On Tue, 13 Aug 2002, David Raistrick wrote:\\n\\n> To actually answer Justin's question, (one can assume that he has\\n> rewrite_subject and report_header turned on because he wants them..and\\n> that he would like to be able to strip the added bits off before he sends\\n> them to razor) something as simple as the following would probably work\\n> just fine.  Just pipe your message through this, then on into\\n> razor-report:\\n\\nI wouldn't make that assumption.  I'd assume that rewrite_subject was on, \\nand report_header was off, because that's the default configuration, and \\nnot everyone knows to go look in the user_prefs file to make those \\nchanges.\\n\\n\\n\\n-------------------------------------------------------\\nThis sf.net email is sponsored by: Dice - The leading online job board\\nfor high-tech professionals. Search and apply for tech jobs today!\\n _URL_ \\n_______________________________________________\\nRazor-users mailing list\\nRazor-users@lists.sourceforge.net\\n _URL_ \\n\\n\\n\"]\n"
     ]
    }
   ],
   "source": [
    "print(_data_processed_example)"
   ]
  },
  {
   "cell_type": "markdown",
   "id": "relative-bumper",
   "metadata": {},
   "source": [
    "Let's split the train and test set according to the stratified strategy. As a comparison, let's get original the ratio between span/ham:"
   ]
  },
  {
   "cell_type": "code",
   "execution_count": 12,
   "id": "lightweight-helping",
   "metadata": {},
   "outputs": [
    {
     "name": "stdout",
     "output_type": "stream",
     "text": [
      "Ratio between spam and ham is: 0.4572598121839634\n"
     ]
    }
   ],
   "source": [
    "num_spam = np.count_nonzero(_target == 'spam') \n",
    "num_ham = np.count_nonzero(_target == 'ham')\n",
    "print(\"Ratio between spam and ham is: \" + str(num_spam/num_ham))"
   ]
  },
  {
   "cell_type": "code",
   "execution_count": 13,
   "id": "single-gates",
   "metadata": {},
   "outputs": [],
   "source": [
    "sss = StratifiedShuffleSplit(n_splits=1, test_size=0.2, random_state=42)\n",
    "for train_index, test_index in sss.split(_data, _target):\n",
    "    X_strat_train_set = _data[train_index]\n",
    "    X_strat_test_set =  _data[test_index]\n",
    "    Y_strat_train_set = _target[train_index]\n",
    "    Y_strat_test_set = _target[test_index]"
   ]
  },
  {
   "cell_type": "markdown",
   "id": "cooperative-clinton",
   "metadata": {},
   "source": [
    "As we can see after the shuffle the ratio is almost equal"
   ]
  },
  {
   "cell_type": "code",
   "execution_count": 14,
   "id": "acceptable-glory",
   "metadata": {},
   "outputs": [
    {
     "name": "stdout",
     "output_type": "stream",
     "text": [
      "Ratio between spam and ham in train set after stratified shuffle is: 0.45725466586393737\n"
     ]
    }
   ],
   "source": [
    "num_spam = np.count_nonzero(Y_strat_train_set == 'spam') \n",
    "num_ham = np.count_nonzero(Y_strat_train_set == 'ham')\n",
    "print(\"Ratio between spam and ham in train set after \\\n",
    "stratified shuffle is: \" + str(num_spam/num_ham))"
   ]
  },
  {
   "cell_type": "markdown",
   "id": "treated-cancellation",
   "metadata": {},
   "source": [
    "Let's create a preprocess_pipeline. The first transforme is the shown above. The second is CountVectorizer that simply builds a dictionary from each word present in the array and assigns a frequency to it."
   ]
  },
  {
   "cell_type": "code",
   "execution_count": 15,
   "id": "purple-export",
   "metadata": {},
   "outputs": [],
   "source": [
    "preprocess_pipeline = Pipeline([\n",
    "    (\"email_to_wordcount\", PreprocessStrToEmail(to_lower_case=True, stemm=True, remove_punct = True)),\n",
    "    (\"count_vectorizer\", CountVectorizer(lowercase=False)),\n",
    "])"
   ]
  },
  {
   "cell_type": "code",
   "execution_count": 16,
   "id": "liked-introduction",
   "metadata": {},
   "outputs": [],
   "source": [
    "X_strat_train_set = preprocess_pipeline.fit_transform(X_strat_train_set)"
   ]
  },
  {
   "cell_type": "code",
   "execution_count": 17,
   "id": "sunrise-recruitment",
   "metadata": {},
   "outputs": [
    {
     "name": "stderr",
     "output_type": "stream",
     "text": [
      "[Parallel(n_jobs=1)]: Using backend SequentialBackend with 1 concurrent workers.\n"
     ]
    },
    {
     "name": "stdout",
     "output_type": "stream",
     "text": [
      "[CV] END ................................ score: (test=0.979) total time=   3.5s\n"
     ]
    },
    {
     "name": "stderr",
     "output_type": "stream",
     "text": [
      "[Parallel(n_jobs=1)]: Done   1 out of   1 | elapsed:    3.5s remaining:    0.0s\n"
     ]
    },
    {
     "name": "stdout",
     "output_type": "stream",
     "text": [
      "[CV] END ................................ score: (test=0.977) total time=   1.8s\n"
     ]
    },
    {
     "name": "stderr",
     "output_type": "stream",
     "text": [
      "[Parallel(n_jobs=1)]: Done   2 out of   2 | elapsed:    5.3s remaining:    0.0s\n"
     ]
    },
    {
     "name": "stdout",
     "output_type": "stream",
     "text": [
      "[CV] END ................................ score: (test=0.971) total time=   1.8s\n"
     ]
    },
    {
     "name": "stderr",
     "output_type": "stream",
     "text": [
      "[Parallel(n_jobs=1)]: Done   3 out of   3 | elapsed:    7.1s finished\n"
     ]
    }
   ],
   "source": [
    "log_clf = LogisticRegression(solver=\"lbfgs\", max_iter=1000, random_state=42, n_jobs=2)\n",
    "score = cross_val_score(log_clf, X_strat_train_set, Y_strat_train_set, cv=3, verbose=3)"
   ]
  },
  {
   "cell_type": "markdown",
   "id": "given-terry",
   "metadata": {},
   "source": [
    "Testing with the test dataset:"
   ]
  },
  {
   "cell_type": "code",
   "execution_count": 18,
   "id": "guided-cherry",
   "metadata": {},
   "outputs": [],
   "source": [
    "X_test_transformed = preprocess_pipeline.transform(X_strat_test_set)"
   ]
  },
  {
   "cell_type": "code",
   "execution_count": 20,
   "id": "extra-jewel",
   "metadata": {},
   "outputs": [],
   "source": [
    "log_clf = LogisticRegression(solver=\"lbfgs\", max_iter=1000, random_state=42, n_jobs=2)\n",
    "score = log_clf.fit( X_strat_train_set, Y_strat_train_set)"
   ]
  },
  {
   "cell_type": "code",
   "execution_count": 21,
   "id": "smooth-laundry",
   "metadata": {},
   "outputs": [],
   "source": [
    "y_pred = log_clf.predict(X_test_transformed)"
   ]
  },
  {
   "cell_type": "code",
   "execution_count": 28,
   "id": "economic-surname",
   "metadata": {},
   "outputs": [
    {
     "name": "stdout",
     "output_type": "stream",
     "text": [
      "Precision: 97.61%\n",
      "Recall: 96.58%\n"
     ]
    }
   ],
   "source": [
    "print(\"Precision: {:.2f}%\".format(100 * precision_score(Y_strat_test_set, y_pred, pos_label='spam')))\n",
    "print(\"Recall: {:.2f}%\".format(100 * recall_score(Y_strat_test_set, y_pred, pos_label='spam')))"
   ]
  },
  {
   "cell_type": "code",
   "execution_count": null,
   "id": "facial-socket",
   "metadata": {},
   "outputs": [],
   "source": []
  },
  {
   "cell_type": "code",
   "execution_count": null,
   "id": "devoted-stress",
   "metadata": {},
   "outputs": [],
   "source": []
  }
 ],
 "metadata": {
  "kernelspec": {
   "display_name": "Python 3",
   "language": "python",
   "name": "python3"
  },
  "language_info": {
   "codemirror_mode": {
    "name": "ipython",
    "version": 3
   },
   "file_extension": ".py",
   "mimetype": "text/x-python",
   "name": "python",
   "nbconvert_exporter": "python",
   "pygments_lexer": "ipython3",
   "version": "3.6.9"
  }
 },
 "nbformat": 4,
 "nbformat_minor": 5
}
