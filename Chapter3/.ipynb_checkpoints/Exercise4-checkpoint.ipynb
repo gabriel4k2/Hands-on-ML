{
 "cells": [
  {
   "cell_type": "code",
   "execution_count": 11,
   "id": "recent-exhaust",
   "metadata": {},
   "outputs": [],
   "source": [
    "import os, tarfile\n",
    "\n",
    "directories_suffix = \"_extracted/\"\n",
    "def extract_bz2(filename, path=\".\"):\n",
    "    with tarfile.open(filename, \"r:bz2\") as tar:\n",
    "        tar.extractall(path)\n",
    "        "
   ]
  },
  {
   "cell_type": "code",
   "execution_count": null,
   "id": "alpha-stretch",
   "metadata": {},
   "outputs": [],
   "source": []
  },
  {
   "cell_type": "code",
   "execution_count": 12,
   "id": "brown-marks",
   "metadata": {},
   "outputs": [],
   "source": [
    "compressed_files = [x for x in os.listdir()  if x.endswith(\".bz2\")]"
   ]
  },
  {
   "cell_type": "code",
   "execution_count": 13,
   "id": "previous-criterion",
   "metadata": {},
   "outputs": [],
   "source": [
    "for _file in compressed_files:\n",
    "    #tarfile overwrites the uncompressed directories that have the same names,\n",
    "    # so a workaround was to extract a new directory which has the original tar filename with a suffix:\n",
    "    # Files from test.tar.bz2 -> uncompressed to test.tar.bz2_extracted/\n",
    "    extract_bz2(_file, path=_file+directories_suffix)"
   ]
  },
  {
   "cell_type": "code",
   "execution_count": 4,
   "id": "thrown-medicine",
   "metadata": {},
   "outputs": [],
   "source": []
  },
  {
   "cell_type": "code",
   "execution_count": null,
   "id": "short-compilation",
   "metadata": {},
   "outputs": [],
   "source": []
  }
 ],
 "metadata": {
  "kernelspec": {
   "display_name": "Python 3",
   "language": "python",
   "name": "python3"
  },
  "language_info": {
   "codemirror_mode": {
    "name": "ipython",
    "version": 3
   },
   "file_extension": ".py",
   "mimetype": "text/x-python",
   "name": "python",
   "nbconvert_exporter": "python",
   "pygments_lexer": "ipython3",
   "version": "3.6.9"
  }
 },
 "nbformat": 4,
 "nbformat_minor": 5
}
