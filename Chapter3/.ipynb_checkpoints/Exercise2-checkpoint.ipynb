{
 "cells": [
  {
   "cell_type": "code",
   "execution_count": 26,
   "id": "talented-twins",
   "metadata": {},
   "outputs": [],
   "source": [
    "from my_utils import *  \n",
    "from scipy.ndimage.interpolation import shift\n",
    "import importlib\n",
    "import numpy as np\n",
    "\n",
    "\n",
    "\n",
    "\n",
    "def shift_a_digit(image, dx, dy, cval):\n",
    "    matrix_img = image.reshape(28,28)\n",
    "    shifted_img = shift(matrix_img, (dx,dy), cval=cval)\n",
    "    return shifted_img\n",
    "    \n",
    "    \n",
    "#Receives the 'data', not the whole array (which is a dictionary containing data, target categories)\n",
    "\n",
    "def shift_each_dir(data, target):\n",
    "    new_data = [data]\n",
    "    for dx,dy in [(0,1), (0,-1), (1,0), (-1,0)]:\n",
    "        _kwargs = {\"dx\"= dx, \"dy\": dy, \"cval\": 0}}\n",
    "        temp = np.apply_along_axis(shift_a_digit, axis=0, data, **(_kwargs))\n",
    "        new_data.append(temp)\n",
    "\n",
    "    new_target = np.tile( target, 5)\n",
    "    return new_data, new_target"
   ]
  },
  {
   "cell_type": "code",
   "execution_count": 23,
   "id": "linear-hanging",
   "metadata": {},
   "outputs": [],
   "source": [
    "#I will not execute grid search again (due to its execution time)\n"
   ]
  },
  {
   "cell_type": "code",
   "execution_count": 6,
   "id": "minus-commodity",
   "metadata": {},
   "outputs": [],
   "source": [
    "mnist_data = fetch_data_sklearn_repo('mnist_784')"
   ]
  },
  {
   "cell_type": "code",
   "execution_count": 7,
   "id": "elect-emerald",
   "metadata": {},
   "outputs": [
    {
     "name": "stdout",
     "output_type": "stream",
     "text": [
      "dict_keys(['data', 'target', 'frame', 'categories', 'feature_names', 'target_names', 'DESCR', 'details', 'url'])\n"
     ]
    }
   ],
   "source": [
    "print(mnist_data.keys())"
   ]
  },
  {
   "cell_type": "code",
   "execution_count": 8,
   "id": "acoustic-nursery",
   "metadata": {},
   "outputs": [],
   "source": [
    "X = mnist_data['data']  \n",
    "Y = mnist_data['target'] "
   ]
  },
  {
   "cell_type": "code",
   "execution_count": 27,
   "id": "optimum-visiting",
   "metadata": {},
   "outputs": [
    {
     "name": "stdout",
     "output_type": "stream",
     "text": [
      "dx 0 dy1\n",
      "dx 0 dy-1\n",
      "dx 1 dy0\n",
      "dx -1 dy0\n"
     ]
    }
   ],
   "source": [
    "X_aug, Y_aug = shift_each_dir(X,Y)"
   ]
  },
  {
   "cell_type": "code",
   "execution_count": 9,
   "id": "decent-preserve",
   "metadata": {},
   "outputs": [
    {
     "data": {
      "image/png": "[encoded data removed]",
      "text/plain": [
       "<Figure size 432x288 with 1 Axes>"
      ]
     },
     "metadata": {
      "needs_background": "light"
     },
     "output_type": "display_data"
    }
   ],
   "source": [
    "\n",
    "show_a_digit_index(X, 0)"
   ]
  },
  {
   "cell_type": "markdown",
   "id": "hourly-liverpool",
   "metadata": {},
   "source": [
    "Testing the shift_a_digit function, which will be applied to each data element"
   ]
  },
  {
   "cell_type": "code",
   "execution_count": 24,
   "id": "median-fleet",
   "metadata": {},
   "outputs": [],
   "source": [
    "testing_shift =  shift_a_digit(X[0], dx=5,dy=5, cval=200)"
   ]
  },
  {
   "cell_type": "code",
   "execution_count": 13,
   "id": "warming-robertson",
   "metadata": {},
   "outputs": [
    {
     "data": {
      "image/png": "[encoded data removed]",
      "text/plain": [
       "<Figure size 432x288 with 1 Axes>"
      ]
     },
     "metadata": {
      "needs_background": "light"
     },
     "output_type": "display_data"
    }
   ],
   "source": [
    "show_a_digit_obj(testing_shift)"
   ]
  },
  {
   "cell_type": "code",
   "execution_count": 19,
   "id": "saved-dream",
   "metadata": {},
   "outputs": [],
   "source": [
    "testing_shift =  shift_a_digit(X[0], dx=0,dy=5, cval=75)"
   ]
  },
  {
   "cell_type": "code",
   "execution_count": 20,
   "id": "tough-track",
   "metadata": {},
   "outputs": [
    {
     "data": {
      "image/png": "[encoded data removed]",
      "text/plain": [
       "<Figure size 432x288 with 1 Axes>"
      ]
     },
     "metadata": {
      "needs_background": "light"
     },
     "output_type": "display_data"
    }
   ],
   "source": [
    "show_a_digit_obj(testing_shift)"
   ]
  },
  {
   "cell_type": "code",
   "execution_count": null,
   "id": "architectural-thanksgiving",
   "metadata": {},
   "outputs": [],
   "source": []
  },
  {
   "cell_type": "code",
   "execution_count": null,
   "id": "pending-norwegian",
   "metadata": {},
   "outputs": [],
   "source": []
  }
 ],
 "metadata": {
  "kernelspec": {
   "display_name": "Python 3",
   "language": "python",
   "name": "python3"
  },
  "language_info": {
   "codemirror_mode": {
    "name": "ipython",
    "version": 3
   },
   "file_extension": ".py",
   "mimetype": "text/x-python",
   "name": "python",
   "nbconvert_exporter": "python",
   "pygments_lexer": "ipython3",
   "version": "3.6.9"
  }
 },
 "nbformat": 4,
 "nbformat_minor": 5
}
