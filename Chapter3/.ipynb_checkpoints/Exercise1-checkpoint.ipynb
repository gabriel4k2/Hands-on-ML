{
 "cells": [
  {
   "cell_type": "code",
   "execution_count": 55,
   "id": "physical-month",
   "metadata": {},
   "outputs": [],
   "source": [
    "from utils import *                          \n",
    "from sklearn.model_selection import StratifiedShuffleSplit\n",
    "from sklearn.neighbors import KNeighborsClassifier\n",
    "from sklearn.model_selection import  cross_val_score\n",
    "\n",
    "import matplotlib.pyplot as plt\n",
    "import pandas as pd                               \n",
    "\n",
    "def show_a_digit(arr, index):\n",
    "    this_digit = arr.iloc[index] \n",
    "    this_digit_image = this_digit.values.reshape(28,28)\n",
    "    plt.imshow(this_digit_image, cmap='binary')\n",
    "    plt.axis('off')\n",
    "                                             "
   ]
  },
  {
   "cell_type": "code",
   "execution_count": 29,
   "id": "advance-cocktail",
   "metadata": {},
   "outputs": [],
   "source": [
    "#Only run once (to get data)                 \n",
    "mnist_data = fetch_openml('mnist_784', version=1, as_frame=True)               \n",
    "X = mnist_data['data']  \n",
    "Y = mnist_data['target']     # X_train, Y_train, X_test, Y_test = X[:6\n"
   ]
  },
  {
   "cell_type": "code",
   "execution_count": 3,
   "id": "fifteen-victim",
   "metadata": {},
   "outputs": [],
   "source": [
    "sss = StratifiedShuffleSplit(n_splits=1, test_size=0.2, random_state=42)"
   ]
  },
  {
   "cell_type": "code",
   "execution_count": 30,
   "id": "anticipated-elite",
   "metadata": {},
   "outputs": [
    {
     "name": "stdout",
     "output_type": "stream",
     "text": [
      "1\n"
     ]
    }
   ],
   "source": [
    "# train_index, test_index=  sss.split(X, Y)\n",
    "i = 0\n",
    "for train_index, test_index in sss.split(X, Y):\n",
    "    X_strat_train_set = X.loc[train_index]\n",
    "    X_strat_test_set =  X.loc[test_index]\n",
    "    Y_strat_train_set = Y.loc[train_index]\n",
    "    Y_strat_test_set = Y.loc[test_index]\n",
    "    i = i +1\n",
    "\n",
    "    \n",
    "print(i)"
   ]
  },
  {
   "cell_type": "code",
   "execution_count": 31,
   "id": "allied-child",
   "metadata": {},
   "outputs": [],
   "source": [
    "knn_clf = KNeighborsClassifier()"
   ]
  },
  {
   "cell_type": "code",
   "execution_count": 52,
   "id": "institutional-thunder",
   "metadata": {},
   "outputs": [
    {
     "data": {
      "image/png": "[encoded data removed]",
      "text/plain": [
       "<Figure size 432x288 with 1 Axes>"
      ]
     },
     "metadata": {
      "needs_background": "light"
     },
     "output_type": "display_data"
    }
   ],
   "source": [
    "show_a_digit(X_strat_train_set, 3)\n"
   ]
  },
  {
   "cell_type": "code",
   "execution_count": 44,
   "id": "blind-shaft",
   "metadata": {},
   "outputs": [
    {
     "data": {
      "text/plain": [
       "KNeighborsClassifier()"
      ]
     },
     "execution_count": 44,
     "metadata": {},
     "output_type": "execute_result"
    }
   ],
   "source": [
    "knn_clf.fit(X_strat_train_set, Y_strat_train_set)"
   ]
  },
  {
   "cell_type": "code",
   "execution_count": 53,
   "id": "iraqi-bachelor",
   "metadata": {},
   "outputs": [
    {
     "data": {
      "text/plain": [
       "array(['9'], dtype=object)"
      ]
     },
     "execution_count": 53,
     "metadata": {},
     "output_type": "execute_result"
    }
   ],
   "source": [
    "knn_clf.predict([X_strat_train_set.iloc[3]])"
   ]
  },
  {
   "cell_type": "code",
   "execution_count": 56,
   "id": "adjustable-diagram",
   "metadata": {},
   "outputs": [
    {
     "data": {
      "text/plain": [
       "array([0.96732201, 0.96555419, 0.96957034])"
      ]
     },
     "execution_count": 56,
     "metadata": {},
     "output_type": "execute_result"
    }
   ],
   "source": [
    "cross_val_score(knn_clf, X_strat_train_set, Y_strat_train_set, cv=3, scoring='accuracy')"
   ]
  },
  {
   "cell_type": "code",
   "execution_count": null,
   "id": "suburban-roman",
   "metadata": {},
   "outputs": [],
   "source": [
    "#The accuray with no stratified is:"
   ]
  }
 ],
 "metadata": {
  "kernelspec": {
   "display_name": "Python 3",
   "language": "python",
   "name": "python3"
  },
  "language_info": {
   "codemirror_mode": {
    "name": "ipython",
    "version": 3
   },
   "file_extension": ".py",
   "mimetype": "text/x-python",
   "name": "python",
   "nbconvert_exporter": "python",
   "pygments_lexer": "ipython3",
   "version": "3.6.9"
  }
 },
 "nbformat": 4,
 "nbformat_minor": 5
}
