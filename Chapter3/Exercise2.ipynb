{
 "cells": [
  {
   "cell_type": "code",
   "execution_count": 53,
   "id": "talented-twins",
   "metadata": {},
   "outputs": [],
   "source": [
    "from utils import *                          \n",
    "from scipy.ndimage.interpolation import shift\n",
    "import numpy as np\n",
    "\n",
    "\n",
    "#Receives the 'data', not the whole array (which is a dictionary containing data, target categories)\n",
    "def shift_each_dir(data, target):\n",
    "    img_left = shift(data, [0,-1])\n",
    "    print(\"img ledt len is \" + str(len(img_left)))\n",
    "    #img_right = shift(data, [0,1])\n",
    "    #img_up = shift(data, [-1,0])\n",
    "    #img_down = shift(data, [1,0])\n",
    "    new_data = data+  img_left    #new_data = np.append(data, img_left)\n",
    "    new_target = np.tile( target, 5)\n",
    "    return new_data, new_target"
   ]
  },
  {
   "cell_type": "code",
   "execution_count": 29,
   "id": "linear-hanging",
   "metadata": {},
   "outputs": [],
   "source": [
    "#I will not execute grid search again (due to its execution time)\n"
   ]
  },
  {
   "cell_type": "code",
   "execution_count": 30,
   "id": "specialized-prefix",
   "metadata": {},
   "outputs": [],
   "source": [
    "mnist_data = fetch_data_sklearn_repo('mnist_784')"
   ]
  },
  {
   "cell_type": "code",
   "execution_count": 31,
   "id": "solar-ordering",
   "metadata": {},
   "outputs": [
    {
     "name": "stdout",
     "output_type": "stream",
     "text": [
      "dict_keys(['data', 'target', 'frame', 'categories', 'feature_names', 'target_names', 'DESCR', 'details', 'url'])\n"
     ]
    }
   ],
   "source": [
    "print(mnist_data.keys())"
   ]
  },
  {
   "cell_type": "code",
   "execution_count": 32,
   "id": "frank-analyst",
   "metadata": {},
   "outputs": [],
   "source": [
    "X = mnist_data['data']  \n",
    "Y = mnist_data['target'] "
   ]
  },
  {
   "cell_type": "code",
   "execution_count": null,
   "id": "cognitive-welding",
   "metadata": {},
   "outputs": [],
   "source": []
  },
  {
   "cell_type": "code",
   "execution_count": 54,
   "id": "closing-mirror",
   "metadata": {},
   "outputs": [
    {
     "name": "stdout",
     "output_type": "stream",
     "text": [
      "img ledt len is 70000\n"
     ]
    }
   ],
   "source": [
    "X_aug, Y_aug = shift_each_dir(X,Y)"
   ]
  },
  {
   "cell_type": "code",
   "execution_count": 55,
   "id": "departmental-trader",
   "metadata": {},
   "outputs": [
    {
     "name": "stdout",
     "output_type": "stream",
     "text": [
      "Original X size is 70000\n"
     ]
    }
   ],
   "source": [
    "print(\"Original X size is {}\".format(len(X)))"
   ]
  },
  {
   "cell_type": "code",
   "execution_count": 56,
   "id": "herbal-treasury",
   "metadata": {},
   "outputs": [
    {
     "name": "stdout",
     "output_type": "stream",
     "text": [
      "Augmented X size is 70000\n"
     ]
    }
   ],
   "source": [
    "print(\"Augmented X size is {}\".format(len(X_aug)))"
   ]
  },
  {
   "cell_type": "code",
   "execution_count": 57,
   "id": "divided-witch",
   "metadata": {},
   "outputs": [
    {
     "name": "stdout",
     "output_type": "stream",
     "text": [
      "Augmented Y size is 350000\n"
     ]
    }
   ],
   "source": [
    "print(\"Augmented Y size is {}\".format(len(Y_aug)))"
   ]
  },
  {
   "cell_type": "code",
   "execution_count": null,
   "id": "embedded-canberra",
   "metadata": {},
   "outputs": [],
   "source": []
  },
  {
   "cell_type": "code",
   "execution_count": null,
   "id": "muslim-interference",
   "metadata": {},
   "outputs": [],
   "source": []
  }
 ],
 "metadata": {
  "kernelspec": {
   "display_name": "Python 3",
   "language": "python",
   "name": "python3"
  },
  "language_info": {
   "codemirror_mode": {
    "name": "ipython",
    "version": 3
   },
   "file_extension": ".py",
   "mimetype": "text/x-python",
   "name": "python",
   "nbconvert_exporter": "python",
   "pygments_lexer": "ipython3",
   "version": "3.6.9"
  }
 },
 "nbformat": 4,
 "nbformat_minor": 5
}
