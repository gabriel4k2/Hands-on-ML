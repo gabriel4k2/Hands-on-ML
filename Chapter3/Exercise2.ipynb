{
 "cells": [
  {
   "cell_type": "code",
   "execution_count": 19,
   "id": "talented-twins",
   "metadata": {},
   "outputs": [],
   "source": [
    "from my_utils import *  \n",
    "from scipy.ndimage.interpolation import shift\n",
    "from sklearn.neighbors import KNeighborsClassifier\n",
    "from sklearn.model_selection import StratifiedShuffleSplit\n",
    "\n",
    "\n",
    "import importlib\n",
    "import numpy as np\n",
    "\n",
    "\n",
    "\n",
    "\n",
    "def shift_a_digit(image, dx, dy, cval):\n",
    "    matrix_img = image.reshape(28,28)\n",
    "    shifted_img = shift(matrix_img, (dx,dy), cval=cval)\n",
    "    #Return to a 1D array of 784 elements (to maintain compatibility with the original data)\n",
    "    \n",
    "    return shifted_img.reshape(784)\n",
    "    \n",
    "    \n",
    "#Receives the 'data', not the whole array (which is a dictionary containing data, target categories)\n",
    "\n",
    "def shift_each_dir(data, target):\n",
    "    new_data = [data]\n",
    "    for dx,dy in [(0,1), (0,-1), (1,0), (-1,0)]:\n",
    "        _kwargs = {\"dx\":dx, \"dy\": dy, \"cval\": 0}\n",
    "        '''\n",
    "        ! Using all arguments as positionals to be clear what each argument mean\n",
    "        ! Axis must be 1 because images are: \n",
    "           data[0] | data[1]     |     data[len*train_set]\n",
    "           pixel 0 | pixel 0 ... |\n",
    "           pixel 1 |  ...        |\n",
    "           ...\n",
    "           pixel 784\n",
    "             \n",
    "            \n",
    "        '''\n",
    "        temp = np.apply_along_axis(func1d=shift_a_digit, axis=1, arr=data, **(_kwargs))\n",
    "        print(temp.shape)\n",
    "        new_data.append(temp)\n",
    "\n",
    "    #new data is a list of no arrays: [ data, data_shifted_0_1, data_shifted_0_-1...], \\ \n",
    "    # we want to flatten it to a single np.array:\n",
    "    new_data = np.concatenate(new_data)\n",
    "    new_target = np.tile( target, 5)\n",
    "    return new_data, new_target"
   ]
  },
  {
   "cell_type": "code",
   "execution_count": 2,
   "id": "linear-hanging",
   "metadata": {},
   "outputs": [],
   "source": [
    "#I will not execute grid search again (due to its execution time)\n"
   ]
  },
  {
   "cell_type": "code",
   "execution_count": 3,
   "id": "minus-commodity",
   "metadata": {},
   "outputs": [],
   "source": [
    "mnist_data = fetch_data_sklearn_repo('mnist_784')"
   ]
  },
  {
   "cell_type": "code",
   "execution_count": 4,
   "id": "elect-emerald",
   "metadata": {},
   "outputs": [
    {
     "name": "stdout",
     "output_type": "stream",
     "text": [
      "dict_keys(['data', 'target', 'frame', 'categories', 'feature_names', 'target_names', 'DESCR', 'details', 'url'])\n"
     ]
    }
   ],
   "source": [
    "print(mnist_data.keys())"
   ]
  },
  {
   "cell_type": "code",
   "execution_count": 5,
   "id": "acoustic-nursery",
   "metadata": {},
   "outputs": [],
   "source": [
    "X = mnist_data['data']  \n",
    "Y = mnist_data['target'] "
   ]
  },
  {
   "cell_type": "code",
   "execution_count": 6,
   "id": "collaborative-gazette",
   "metadata": {},
   "outputs": [
    {
     "data": {
      "text/plain": [
       "(70000, 784)"
      ]
     },
     "execution_count": 6,
     "metadata": {},
     "output_type": "execute_result"
    }
   ],
   "source": [
    "X.shape"
   ]
  },
  {
   "cell_type": "code",
   "execution_count": 7,
   "id": "atomic-cartoon",
   "metadata": {},
   "outputs": [
    {
     "name": "stdout",
     "output_type": "stream",
     "text": [
      "(70000, 784)\n",
      "(70000, 784)\n",
      "(70000, 784)\n",
      "(70000, 784)\n"
     ]
    }
   ],
   "source": [
    "X_aug, Y_aug = shift_each_dir(X,Y)"
   ]
  },
  {
   "cell_type": "code",
   "execution_count": 8,
   "id": "decent-preserve",
   "metadata": {},
   "outputs": [
    {
     "data": {
      "image/png": "[encoded data removed]",
      "text/plain": [
       "<Figure size 432x288 with 1 Axes>"
      ]
     },
     "metadata": {
      "needs_background": "light"
     },
     "output_type": "display_data"
    }
   ],
   "source": [
    "\n",
    "show_a_digit_index(X, 0)"
   ]
  },
  {
   "cell_type": "markdown",
   "id": "attractive-blackjack",
   "metadata": {},
   "source": [
    "Testing the shift_a_digit function, which will be applied to each data element"
   ]
  },
  {
   "cell_type": "code",
   "execution_count": 9,
   "id": "median-fleet",
   "metadata": {},
   "outputs": [],
   "source": [
    "testing_shift =  shift_a_digit(X[0], dx=5,dy=5, cval=200)"
   ]
  },
  {
   "cell_type": "code",
   "execution_count": 11,
   "id": "warming-robertson",
   "metadata": {},
   "outputs": [
    {
     "data": {
      "image/png": "[encoded data removed]",
      "text/plain": [
       "<Figure size 432x288 with 1 Axes>"
      ]
     },
     "metadata": {
      "needs_background": "light"
     },
     "output_type": "display_data"
    }
   ],
   "source": [
    "show_a_digit_obj(testing_shift.reshape(28,28))"
   ]
  },
  {
   "cell_type": "code",
   "execution_count": 12,
   "id": "saved-dream",
   "metadata": {},
   "outputs": [],
   "source": [
    "testing_shift =  shift_a_digit(X[0], dx=0,dy=5, cval=75)"
   ]
  },
  {
   "cell_type": "code",
   "execution_count": 13,
   "id": "tough-track",
   "metadata": {},
   "outputs": [
    {
     "data": {
      "image/png": "[encoded data removed]",
      "text/plain": [
       "<Figure size 432x288 with 1 Axes>"
      ]
     },
     "metadata": {
      "needs_background": "light"
     },
     "output_type": "display_data"
    }
   ],
   "source": [
    "show_a_digit_obj(testing_shift.reshape(28,28))"
   ]
  },
  {
   "cell_type": "markdown",
   "id": "juvenile-undergraduate",
   "metadata": {},
   "source": [
    "OK, dataset is augmented by 4x and the shift_a_digit function is working correcly, let's now apply the KNN classifier and see if it improved the accuracy from Exercise 1 (which obtained about 97% accuracy)"
   ]
  },
  {
   "cell_type": "code",
   "execution_count": 17,
   "id": "pending-norwegian",
   "metadata": {},
   "outputs": [],
   "source": [
    " knn_clf = KNeighborsClassifier(n_jobs=2)"
   ]
  },
  {
   "cell_type": "code",
   "execution_count": 23,
   "id": "virgin-trademark",
   "metadata": {},
   "outputs": [],
   "source": [
    "sss = StratifiedShuffleSplit(n_splits=1, test_size=0.2, random_state=42)\n",
    "for train_index, test_index in sss.split(X_aug, Y_aug):\n",
    "    X_strat_train_set = X_aug[train_index]\n",
    "    X_strat_test_set =  X_aug[test_index]\n",
    "    Y_strat_train_set = Y_aug[train_index]\n",
    "    Y_strat_test_set = Y_aug[test_index]\n",
    "    "
   ]
  },
  {
   "cell_type": "code",
   "execution_count": 24,
   "id": "correct-ecology",
   "metadata": {},
   "outputs": [
    {
     "name": "stdout",
     "output_type": "stream",
     "text": [
      "280000\n"
     ]
    }
   ],
   "source": [
    "print(len(X_strat_train_set))"
   ]
  },
  {
   "cell_type": "code",
   "execution_count": 25,
   "id": "brief-daughter",
   "metadata": {},
   "outputs": [
    {
     "data": {
      "text/plain": [
       "KNeighborsClassifier(n_jobs=2)"
      ]
     },
     "execution_count": 25,
     "metadata": {},
     "output_type": "execute_result"
    }
   ],
   "source": [
    "knn_clf.fit(X_strat_train_set, Y_strat_train_set)"
   ]
  },
  {
   "cell_type": "code",
   "execution_count": null,
   "id": "useful-material",
   "metadata": {},
   "outputs": [],
   "source": [
    "X_pred = knn_clf.predict(X_strat_test_set)"
   ]
  },
  {
   "cell_type": "code",
   "execution_count": null,
   "id": "supposed-delay",
   "metadata": {},
   "outputs": [],
   "source": [
    "accuracy_score(X_pred, Y_strat_test_set)"
   ]
  },
  {
   "cell_type": "code",
   "execution_count": null,
   "id": "impressive-rebel",
   "metadata": {},
   "outputs": [],
   "source": []
  }
 ],
 "metadata": {
  "kernelspec": {
   "display_name": "Python 3",
   "language": "python",
   "name": "python3"
  },
  "language_info": {
   "codemirror_mode": {
    "name": "ipython",
    "version": 3
   },
   "file_extension": ".py",
   "mimetype": "text/x-python",
   "name": "python",
   "nbconvert_exporter": "python",
   "pygments_lexer": "ipython3",
   "version": "3.6.9"
  }
 },
 "nbformat": 4,
 "nbformat_minor": 5
}
