{
 "cells": [
  {
   "cell_type": "code",
   "execution_count": 6,
   "id": "split-input",
   "metadata": {},
   "outputs": [],
   "source": [
    "import os, tarfile\n",
    "from sklearn.datasets import load_files\n",
    "directories_suffix = \"_extracted/\"\n",
    "def extract_bz2(filename, path=\".\"):\n",
    "    with tarfile.open(filename, \"r:bz2\") as tar:\n",
    "        tar.extractall(path)\n",
    "        "
   ]
  },
  {
   "cell_type": "code",
   "execution_count": 7,
   "id": "wrong-pattern",
   "metadata": {},
   "outputs": [],
   "source": [
    "os.chdir(\"SpamAssassin\")"
   ]
  },
  {
   "cell_type": "code",
   "execution_count": 8,
   "id": "unlikely-frequency",
   "metadata": {},
   "outputs": [],
   "source": [
    "compressed_files = [x for x in os.listdir()  if x.endswith(\".bz2\")]"
   ]
  },
  {
   "cell_type": "code",
   "execution_count": 9,
   "id": "hearing-louisville",
   "metadata": {},
   "outputs": [],
   "source": [
    "for _file in compressed_files:\n",
    "    #tarfile overwrites the uncompressed directories that have the same names,\n",
    "    # so a workaround was to extract a new directory which has the original tar filename with a suffix:\n",
    "    # Files from test.tar.bz2 -> uncompressed to test.tar.bz2_extracted/\n",
    "    extract_bz2(_file, path=_file+directories_suffix)"
   ]
  },
  {
   "cell_type": "code",
   "execution_count": 10,
   "id": "educated-webmaster",
   "metadata": {},
   "outputs": [],
   "source": [
    "_data = load_files(\"20021010_easy_ham.tar.bz2_extracted\")"
   ]
  },
  {
   "cell_type": "code",
   "execution_count": 12,
   "id": "revolutionary-cancer",
   "metadata": {},
   "outputs": [
    {
     "name": "stdout",
     "output_type": "stream",
     "text": [
      "dict_keys(['data', 'filenames', 'target_names', 'target', 'DESCR'])\n"
     ]
    }
   ],
   "source": [
    "print(_data.keys())"
   ]
  },
  {
   "cell_type": "code",
   "execution_count": 14,
   "id": "living-hypothetical",
   "metadata": {},
   "outputs": [
    {
     "name": "stdout",
     "output_type": "stream",
     "text": [
      "['20021010_easy_ham.tar.bz2_extracted/easy_ham/0559.2c60829e4147cdc981cf7131088b851d'\n",
      " '20021010_easy_ham.tar.bz2_extracted/easy_ham/0391.e1f15b5f5a6dbbb8cde6571055be3127'\n",
      " '20021010_easy_ham.tar.bz2_extracted/easy_ham/0667.9e0b1ad2888b8d638be9d486637eb445'\n",
      " ...\n",
      " '20021010_easy_ham.tar.bz2_extracted/easy_ham/0764.ba8f49f7a4dd4d9a9bb28e5c96e46463'\n",
      " '20021010_easy_ham.tar.bz2_extracted/easy_ham/0836.249730de164ba4999f1ab6ec2d3cb2d1'\n",
      " '20021010_easy_ham.tar.bz2_extracted/easy_ham/1654.1ed94c5f40b704e5b4977c0c595a31ee']\n"
     ]
    }
   ],
   "source": [
    "print(_data.filenames)"
   ]
  },
  {
   "cell_type": "code",
   "execution_count": 15,
   "id": "tropical-rally",
   "metadata": {},
   "outputs": [
    {
     "name": "stdout",
     "output_type": "stream",
     "text": [
      "['easy_ham']\n"
     ]
    }
   ],
   "source": [
    "print(_data.target_names)"
   ]
  },
  {
   "cell_type": "code",
   "execution_count": 19,
   "id": "shaped-portland",
   "metadata": {},
   "outputs": [
    {
     "name": "stdout",
     "output_type": "stream",
     "text": [
      "b'From fork-admin@xent.com  Tue Aug 27 02:14:54 2002\\nReturn-Path: <fork-admin@xent.com>\\nDelivered-To: yyyy@localhost.netnoteinc.com\\nReceived: from localhost (localhost [127.0.0.1])\\n\\tby phobos.labs.netnoteinc.com (Postfix) with ESMTP id 3141D43F9B\\n\\tfor <jm@localhost>; Mon, 26 Aug 2002 21:14:54 -0400 (EDT)\\nReceived: from phobos [127.0.0.1]\\n\\tby localhost with IMAP (fetchmail-5.9.0)\\n\\tfor jm@localhost (single-drop); Tue, 27 Aug 2002 02:14:54 +0100 (IST)\\nReceived: from xent.com ([64.161.22.236]) by dogma.slashnull.org\\n    (8.11.6/8.11.6) with ESMTP id g7R1AiZ20372 for <jm@jmason.org>;\\n    Tue, 27 Aug 2002 02:10:45 +0100\\nReceived: from lair.xent.com (localhost [127.0.0.1]) by xent.com (Postfix)\\n    with ESMTP id 4DFFC2941E1; Mon, 26 Aug 2002 18:08:09 -0700 (PDT)\\nDelivered-To: fork@example.com\\nReceived: from mithral.com (watcher.mithral.com [204.153.244.1]) by\\n    xent.com (Postfix) with SMTP id 5C55729417F for <fork@xent.com>;\\n    Mon, 26 Aug 2002 18:07:34 -0700 (PDT)\\nReceived: (qmail 5844 invoked by uid 1111); 27 Aug 2002 01:09:28 -0000\\nFrom: \"Adam L. Beberg\" <beberg@mithral.com>\\nTo: \"Joseph S. Barrera III\" <joe@barrera.org>\\nCc: <fork@example.com>\\nSubject: Re: The GOv gets tough on Net Users.....er Pirates..\\nIn-Reply-To: <3D6A488C.7000609@barrera.org>\\nMessage-Id: <Pine.LNX.4.33.0208261744120.5669-100000@watcher.mithral.com>\\nMIME-Version: 1.0\\nContent-Type: TEXT/PLAIN; charset=US-ASCII\\nSender: fork-admin@xent.com\\nErrors-To: fork-admin@xent.com\\nX-Beenthere: fork@example.com\\nX-Mailman-Version: 2.0.11\\nPrecedence: bulk\\nList-Help: <mailto:fork-request@xent.com?subject=help>\\nList-Post: <mailto:fork@example.com>\\nList-Subscribe: <http://xent.com/mailman/listinfo/fork>, <mailto:fork-request@xent.com?subject=subscribe>\\nList-Id: Friends of Rohit Khare <fork.xent.com>\\nList-Unsubscribe: <http://xent.com/mailman/listinfo/fork>,\\n    <mailto:fork-request@xent.com?subject=unsubscribe>\\nList-Archive: <http://xent.com/pipermail/fork/>\\nDate: Mon, 26 Aug 2002 18:09:28 -0700 (PDT)\\nX-Pyzor: Reported 0 times.\\nX-Spam-Status: No, hits=-9.1 required=7.0\\n\\ttests=EMAIL_ATTRIBUTION,IN_REP_TO,KNOWN_MAILING_LIST,\\n\\t      QUOTED_EMAIL_TEXT,SPAM_PHRASE_00_01,USER_AGENT_PINE\\n\\tversion=2.40-cvs\\nX-Spam-Level: \\n\\nOn Mon, 26 Aug 2002, Joseph S. Barrera III wrote:\\n\\n> Adam L. Beberg wrote:\\n> > Fair use needs to be clarified a bit\\n>\\n> That\\'s an understatement!!!\\n\\nYes, it is :(\\n\\n> > How else do i ever have hope of finding a job working for someone\\n> > that makes things people are supposed to ... *drumroll* pay for.\\n>\\n> Well, you could damn well get a fucking better attitude. I practically\\n> handed you a job the other week and you pissed all over me. I\\'m done\\n> helping you. You have joined a very exclusive club that up to now has\\n> only had my sister as a member.\\n\\nForwarding me stuff from a list is hardly handing me a job. I tracked them\\ndown, they dont exist anymore, like 99% of the things I track down the req\\'s\\nare pulled or there is a freeze.\\n\\nThe real problem is you cant even train for jobs now, since they _demand_\\n7-10 years at a job paid to do the wierd collection of skills they want.\\n\\nBut I\\'ll get lucky eventually and someone I know will be a hiring manager.\\n\\n- Adam L. \"Duncan\" Beberg\\n  http://www.mithral.com/~beberg/\\n  beberg@mithral.com\\n\\n\\n\\n'\n"
     ]
    }
   ],
   "source": [
    "print(_data.data[1])"
   ]
  },
  {
   "cell_type": "code",
   "execution_count": null,
   "id": "published-bandwidth",
   "metadata": {},
   "outputs": [],
   "source": []
  }
 ],
 "metadata": {
  "kernelspec": {
   "display_name": "Python 3",
   "language": "python",
   "name": "python3"
  },
  "language_info": {
   "codemirror_mode": {
    "name": "ipython",
    "version": 3
   },
   "file_extension": ".py",
   "mimetype": "text/x-python",
   "name": "python",
   "nbconvert_exporter": "python",
   "pygments_lexer": "ipython3",
   "version": "3.6.9"
  }
 },
 "nbformat": 4,
 "nbformat_minor": 5
}
