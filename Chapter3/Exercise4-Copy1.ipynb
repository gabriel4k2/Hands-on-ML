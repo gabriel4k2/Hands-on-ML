{
 "cells": [
  {
   "cell_type": "code",
   "execution_count": 14,
   "id": "split-input",
   "metadata": {},
   "outputs": [],
   "source": [
    "import os, tarfile\n",
    "import email\n",
    "import numpy as np  \n",
    "from sklearn.datasets import load_files\n",
    "from sklearn.base import *\n",
    "from sklearn.model_selection import StratifiedShuffleSplit\n",
    "from email.parser import BytesParser, Parser\n",
    "from email.policy import default\n",
    "dataset_path = \"dataset/\"\n",
    "only_easy_ham = True\n",
    "\n",
    "def extract_bz2(filename, path=\".\"):\n",
    "    with tarfile.open(filename, \"r:bz2\") as tar:\n",
    "        tar.extractall(path)\n",
    "\n",
    "def removeHardHam(data, targets, hard_ham_index):\n",
    "    _to_delete = []\n",
    "    for _index in range(len(data)):\n",
    "        if targets[_index] == int(hard_ham_index):\n",
    "            _to_delete.append(_index)\n",
    "        \n",
    "    return np.delete(data, _to_delete),  np.delete(targets, _to_delete)\n",
    "\n",
    "\n",
    "#The dataset has multiple labels such as easy_ham, easy_ham2,\n",
    "# we want to simply convert to ham or spam\n",
    "def binarizeLabels(targets):\n",
    "    for _index in range(targets.size):\n",
    "        if \"ham\" in targets[_index]:\n",
    "            targets[_index] = \"ham\"\n",
    "        else:\n",
    "            targets[_index] = \"spam\"\n",
    "            \n",
    "    return targets\n",
    " \n",
    "   \n",
    "def getEmailPayload(email_message):\n",
    "    body = []\n",
    "    if email_message.is_multipart():\n",
    "        for part in email_message.get_payload():\n",
    "            body.append( part.get_payload() )\n",
    "    else:\n",
    "        body = email_message.get_payload()\n",
    "    return body\n",
    "\n",
    "def convertIndexToString(targets, index_to_string_dict):\n",
    "    new_targets = []\n",
    "    for _target in targets:\n",
    "        new_targets.append( index_to_string_dict.get(_target) )\n",
    "    \n",
    "    return np.asarray(new_targets )\n",
    "\n",
    "class PreprocessStrToEmail(BaseEstimator, TransformerMixin):\n",
    "    def __init__(self, only_body = True): # no *args or **kargs\n",
    "        self.only_body = only_body\n",
    "    def fit(self, X, y=None):\n",
    "        return self # nothing else to do\n",
    "    def transform(self, X, y=None):\n",
    "        _parser = Parser(policy=default)\n",
    "        #parsestr(_data[0].decode('UTF-8'))\n",
    "        _X = np.array(_parser.parsestr(x.decode('UTF-8')) for x in X)\n",
    "        if self.only_body:\n",
    "            X = np.array(getEmailPayload(x) for x in _X)\n",
    "        else:\n",
    "            pass\n",
    "        return X\n",
    "\n",
    "class PreprocessHardHam(BaseEstimator, TransformerMixin):\n",
    "    def __init__(self, remove_hard_ham = True): # no *args or **kargs\n",
    "        self.remove_hard_ham = remove_hard_ham\n",
    "    def fit(self, X, y=None):\n",
    "        return self # nothing else to do\n",
    "    def transform(self, X, y=None):\n",
    "        rooms_per_household = X[:, rooms_ix] / X[:, households_ix]\n",
    "        population_per_household = X[:, population_ix] / X[:, households_ix]\n",
    "        if self.add_bedrooms_per_room:\n",
    "            bedrooms_per_room = X[:, bedrooms_ix] / X[:, rooms_ix]\n",
    "            return np.c_[X, rooms_per_household, population_per_household,bedrooms_per_room]\n",
    "        else:\n",
    "            return np.c_[X, rooms_per_household, population_per_household]\n",
    "        "
   ]
  },
  {
   "cell_type": "code",
   "execution_count": 2,
   "id": "wrong-pattern",
   "metadata": {},
   "outputs": [],
   "source": [
    "os.chdir(\"SpamAssassin\")\n",
    "compressed_files = [x for x in os.listdir()  if x.endswith(\".bz2\")]\n",
    "for _file in compressed_files:    \n",
    "    extract_bz2(_file, path=dataset_path)"
   ]
  },
  {
   "cell_type": "code",
   "execution_count": 3,
   "id": "educated-webmaster",
   "metadata": {},
   "outputs": [],
   "source": [
    "_dataset = load_files(dataset_path)\n",
    "_data = np.array(_dataset.data)\n",
    "_target = _dataset.target\n",
    "_target_names =  _dataset.target_names\n"
   ]
  },
  {
   "cell_type": "markdown",
   "id": "every-uruguay",
   "metadata": {},
   "source": [
    "As we can see below, every data has a categorical label contained in the following set: "
   ]
  },
  {
   "cell_type": "code",
   "execution_count": 4,
   "id": "global-australian",
   "metadata": {},
   "outputs": [
    {
     "name": "stdout",
     "output_type": "stream",
     "text": [
      "['easy_ham', 'easy_ham_2', 'hard_ham', 'spam', 'spam_2']\n"
     ]
    }
   ],
   "source": [
    "print(_target_names)"
   ]
  },
  {
   "cell_type": "code",
   "execution_count": 5,
   "id": "loved-dispute",
   "metadata": {},
   "outputs": [],
   "source": [
    "\n",
    "if only_easy_ham:\n",
    "    _hard_ham_index = _target_names.index('hard_ham')\n",
    "    _data, _target = removeHardHam(_data, _target, _hard_ham_index)"
   ]
  },
  {
   "cell_type": "markdown",
   "id": "stone-climb",
   "metadata": {},
   "source": [
    "It's desirable to simply set the labels as whether they are ham/spam:"
   ]
  },
  {
   "cell_type": "code",
   "execution_count": 6,
   "id": "earned-passage",
   "metadata": {},
   "outputs": [
    {
     "name": "stdout",
     "output_type": "stream",
     "text": [
      "['spam' 'ham' 'spam' 'ham' 'spam' 'ham' 'ham' 'ham' 'ham' 'ham' 'ham'\n",
      " 'ham' 'ham' 'ham' 'ham' 'ham']\n"
     ]
    }
   ],
   "source": [
    "index_to_str_label = dict()\n",
    "zipped = zip(list(range(_target_names.__len__())), _target_names )\n",
    "for x,y in zipped:\n",
    "    index_to_str_label.update({x:y})\n",
    "\n",
    "_target = convertIndexToString(_target,index_to_str_label )\n",
    "_target = binarizeLabels(_target)\n",
    "\n",
    "print(_target[:16])\n"
   ]
  },
  {
   "cell_type": "code",
   "execution_count": 7,
   "id": "funky-colors",
   "metadata": {},
   "outputs": [
    {
     "name": "stdout",
     "output_type": "stream",
     "text": [
      "b'From zzzz-latestdodgydotcomstock@jmason.org  Mon Sep  2 16:27:31 2002\\nReturn-Path: <zzzz-latestdodgydotcomstock@spamassassin.taint.org>\\nDelivered-To: zzzz@localhost.spamassassin.taint.org\\nReceived: from localhost (localhost [127.0.0.1])\\n\\tby phobos.labs.spamassassin.taint.org (Postfix) with ESMTP id 75B1143F99\\n\\tfor <zzzz@localhost>; Mon,  2 Sep 2002 11:26:17 -0400 (EDT)\\nReceived: from phobos [127.0.0.1]\\n\\tby localhost with IMAP (fetchmail-5.9.0)\\n\\tfor zzzz@localhost (single-drop); Mon, 02 Sep 2002 16:26:19 +0100 (IST)\\nReceived: from c448022-c (12-243-62-67.client.attbi.com [12.243.62.67]) by\\n    dogma.slashnull.org (8.11.6/8.11.6) with SMTP id g7V2kdZ20239 for\\n    <zzzz-latestdodgydotcomstock@jmason.org>; Sat, 31 Aug 2002 03:46:40 +0100\\nMessage-Id: <200208310246.g7V2kdZ20239@dogma.slashnull.org>\\nFrom: \"zzzz-latestdodgydotcomstock\" <yyyy-latestdodgydotcomstock@spamassassin.taint.org>\\nTo: \"zzzz-latestdodgydotcomstock\" <yyyy-latestdodgydotcomstock@spamassassin.taint.org>\\nSubject: Testing a system, please delete\\nDate: Fri, 30 Aug 02 21:48:08 Eastern Daylight Time\\nMIME-Version: 1.0\\nX-Priority: 3\\nX-Msmail-Priority: Normal\\nX-Mailer: Microsoft Outlook Express 6.00.2462.0000\\nX-Mimeole: Produced By Microsoft MimeOLE V6.00.2462.0000\\nContent-Type: multipart/mixed;boundary= \"----=_NextPart_000_006C_6B8D6A65.3C3C56F\"\\n\\n------=_NextPart_000_006C_6B8D6A65.3C3C56F\\nContent-Type: text/plain\\nContent-Transfer-Encoding: base64\\n\\nUGxlYXNlIGZvcmdpdmUgdGhlIGludHJ1c2lvbiwgdGhpcyBpcyBhIG9uZSB0aW1lIG9ubHkg\\ndGVzdCwgcGxlYXNlIGRlbGV0ZS4gDQpZb3Ugc2hvdWxkIG5vdCByZWNlaXZlIGFueSBhZGRp\\ndGlvbmFsIGVtYWlscyBmcm9tIHRoaXMgYWRkcmVzcywgaWYgeW91IGRvIHBsZWFzZSBzZW5k\\nIGFuIGVtYWlsIA0Kd2l0aCByZW1vdmUgYXMgc3ViamVjdCB0bzoNCg0KdGVzdDc5OTFAeWFo\\nb28uY29tDQoNClRoYW5rIHlvdSBmb3IgeW91ciB1bmRlcnN0YW5kaW5nLg0KDQogICAg\\n------=_NextPart_000_006C_6B8D6A65.3C3C56F--\\n\\n'\n"
     ]
    }
   ],
   "source": [
    "print(_data[0])\n"
   ]
  },
  {
   "cell_type": "code",
   "execution_count": 8,
   "id": "minor-escape",
   "metadata": {},
   "outputs": [],
   "source": [
    "headers = Parser(policy=default).parsestr(_data[0].decode('UTF-8'))"
   ]
  },
  {
   "cell_type": "code",
   "execution_count": 9,
   "id": "labeled-execution",
   "metadata": {},
   "outputs": [
    {
     "name": "stdout",
     "output_type": "stream",
     "text": [
      "To: zzzz-latestdodgydotcomstock <yyyy-latestdodgydotcomstock@spamassassin.taint.org>\n"
     ]
    }
   ],
   "source": [
    "print('To: {}'.format(headers['to']))\n"
   ]
  },
  {
   "cell_type": "code",
   "execution_count": 10,
   "id": "liquid-netscape",
   "metadata": {},
   "outputs": [
    {
     "name": "stdout",
     "output_type": "stream",
     "text": [
      "From: zzzz-latestdodgydotcomstock <yyyy-latestdodgydotcomstock@spamassassin.taint.org>\n"
     ]
    }
   ],
   "source": [
    "print('From: {}'.format(headers['from']))\n"
   ]
  },
  {
   "cell_type": "code",
   "execution_count": 11,
   "id": "timely-antenna",
   "metadata": {},
   "outputs": [
    {
     "name": "stdout",
     "output_type": "stream",
     "text": [
      "Content-Type: text/plain\n",
      "Content-Transfer-Encoding: base64\n",
      "\n",
      "UGxlYXNlIGZvcmdpdmUgdGhlIGludHJ1c2lvbiwgdGhpcyBpcyBhIG9uZSB0aW1lIG9ubHkg\n",
      "dGVzdCwgcGxlYXNlIGRlbGV0ZS4gDQpZb3Ugc2hvdWxkIG5vdCByZWNlaXZlIGFueSBhZGRp\n",
      "dGlvbmFsIGVtYWlscyBmcm9tIHRoaXMgYWRkcmVzcywgaWYgeW91IGRvIHBsZWFzZSBzZW5k\n",
      "IGFuIGVtYWlsIA0Kd2l0aCByZW1vdmUgYXMgc3ViamVjdCB0bzoNCg0KdGVzdDc5OTFAeWFo\n",
      "b28uY29tDQoNClRoYW5rIHlvdSBmb3IgeW91ciB1bmRlcnN0YW5kaW5nLg0KDQogICAg\n"
     ]
    }
   ],
   "source": [
    "elem = headers.get_payload()\n",
    "type(elem)\n",
    "print(elem[-1])"
   ]
  },
  {
   "cell_type": "code",
   "execution_count": 12,
   "id": "entertaining-certification",
   "metadata": {},
   "outputs": [
    {
     "name": "stdout",
     "output_type": "stream",
     "text": [
      "0.4866735007688365\n"
     ]
    }
   ],
   "source": [
    "#Let's see the ratio of spam to ham:\n",
    "spam_occurrences = np.count_nonzero(_target == 'spam')\n",
    "ham_occurrences = np.count_nonzero(_target == 'ham')\n",
    "print(spam_occurrences/ham_occurrences)"
   ]
  },
  {
   "cell_type": "code",
   "execution_count": 15,
   "id": "executive-tuner",
   "metadata": {},
   "outputs": [
    {
     "ename": "TypeError",
     "evalue": "iteration over a 0-d array",
     "output_type": "error",
     "traceback": [
      "\u001b[0;31m---------------------------------------------------------------------------\u001b[0m",
      "\u001b[0;31mTypeError\u001b[0m                                 Traceback (most recent call last)",
      "\u001b[0;32m<ipython-input-15-61c4244e5d78>\u001b[0m in \u001b[0;36m<module>\u001b[0;34m\u001b[0m\n\u001b[1;32m      1\u001b[0m \u001b[0mpre_process\u001b[0m \u001b[0;34m=\u001b[0m \u001b[0mPreprocessStrToEmail\u001b[0m\u001b[0;34m(\u001b[0m\u001b[0;34m)\u001b[0m\u001b[0;34m\u001b[0m\u001b[0;34m\u001b[0m\u001b[0m\n\u001b[0;32m----> 2\u001b[0;31m \u001b[0mpre_process\u001b[0m\u001b[0;34m.\u001b[0m\u001b[0mfit_transform\u001b[0m\u001b[0;34m(\u001b[0m\u001b[0m_data\u001b[0m\u001b[0;34m)\u001b[0m\u001b[0;34m\u001b[0m\u001b[0;34m\u001b[0m\u001b[0m\n\u001b[0m",
      "\u001b[0;32m~/.local/lib/python3.6/site-packages/sklearn/base.py\u001b[0m in \u001b[0;36mfit_transform\u001b[0;34m(self, X, y, **fit_params)\u001b[0m\n\u001b[1;32m    697\u001b[0m         \u001b[0;32mif\u001b[0m \u001b[0my\u001b[0m \u001b[0;32mis\u001b[0m \u001b[0;32mNone\u001b[0m\u001b[0;34m:\u001b[0m\u001b[0;34m\u001b[0m\u001b[0;34m\u001b[0m\u001b[0m\n\u001b[1;32m    698\u001b[0m             \u001b[0;31m# fit method of arity 1 (unsupervised transformation)\u001b[0m\u001b[0;34m\u001b[0m\u001b[0;34m\u001b[0m\u001b[0;34m\u001b[0m\u001b[0m\n\u001b[0;32m--> 699\u001b[0;31m             \u001b[0;32mreturn\u001b[0m \u001b[0mself\u001b[0m\u001b[0;34m.\u001b[0m\u001b[0mfit\u001b[0m\u001b[0;34m(\u001b[0m\u001b[0mX\u001b[0m\u001b[0;34m,\u001b[0m \u001b[0;34m**\u001b[0m\u001b[0mfit_params\u001b[0m\u001b[0;34m)\u001b[0m\u001b[0;34m.\u001b[0m\u001b[0mtransform\u001b[0m\u001b[0;34m(\u001b[0m\u001b[0mX\u001b[0m\u001b[0;34m)\u001b[0m\u001b[0;34m\u001b[0m\u001b[0;34m\u001b[0m\u001b[0m\n\u001b[0m\u001b[1;32m    700\u001b[0m         \u001b[0;32melse\u001b[0m\u001b[0;34m:\u001b[0m\u001b[0;34m\u001b[0m\u001b[0;34m\u001b[0m\u001b[0m\n\u001b[1;32m    701\u001b[0m             \u001b[0;31m# fit method of arity 2 (supervised transformation)\u001b[0m\u001b[0;34m\u001b[0m\u001b[0;34m\u001b[0m\u001b[0;34m\u001b[0m\u001b[0m\n",
      "\u001b[0;32m<ipython-input-14-e6d1ef21ec4d>\u001b[0m in \u001b[0;36mtransform\u001b[0;34m(self, X, y)\u001b[0m\n\u001b[1;32m     61\u001b[0m         \u001b[0m_X\u001b[0m \u001b[0;34m=\u001b[0m \u001b[0mnp\u001b[0m\u001b[0;34m.\u001b[0m\u001b[0marray\u001b[0m\u001b[0;34m(\u001b[0m\u001b[0m_parser\u001b[0m\u001b[0;34m.\u001b[0m\u001b[0mparsestr\u001b[0m\u001b[0;34m(\u001b[0m\u001b[0mx\u001b[0m\u001b[0;34m.\u001b[0m\u001b[0mdecode\u001b[0m\u001b[0;34m(\u001b[0m\u001b[0;34m'UTF-8'\u001b[0m\u001b[0;34m)\u001b[0m\u001b[0;34m)\u001b[0m \u001b[0;32mfor\u001b[0m \u001b[0mx\u001b[0m \u001b[0;32min\u001b[0m \u001b[0mX\u001b[0m\u001b[0;34m)\u001b[0m\u001b[0;34m\u001b[0m\u001b[0;34m\u001b[0m\u001b[0m\n\u001b[1;32m     62\u001b[0m         \u001b[0;32mif\u001b[0m \u001b[0mself\u001b[0m\u001b[0;34m.\u001b[0m\u001b[0monly_body\u001b[0m\u001b[0;34m:\u001b[0m\u001b[0;34m\u001b[0m\u001b[0;34m\u001b[0m\u001b[0m\n\u001b[0;32m---> 63\u001b[0;31m             \u001b[0mX\u001b[0m \u001b[0;34m=\u001b[0m \u001b[0mnp\u001b[0m\u001b[0;34m.\u001b[0m\u001b[0marray\u001b[0m\u001b[0;34m(\u001b[0m\u001b[0mgetEmailPayload\u001b[0m\u001b[0;34m(\u001b[0m\u001b[0mx\u001b[0m\u001b[0;34m)\u001b[0m \u001b[0;32mfor\u001b[0m \u001b[0mx\u001b[0m \u001b[0;32min\u001b[0m \u001b[0m_X\u001b[0m\u001b[0;34m)\u001b[0m\u001b[0;34m\u001b[0m\u001b[0;34m\u001b[0m\u001b[0m\n\u001b[0m\u001b[1;32m     64\u001b[0m         \u001b[0;32melse\u001b[0m\u001b[0;34m:\u001b[0m\u001b[0;34m\u001b[0m\u001b[0;34m\u001b[0m\u001b[0m\n\u001b[1;32m     65\u001b[0m             \u001b[0;32mpass\u001b[0m\u001b[0;34m\u001b[0m\u001b[0;34m\u001b[0m\u001b[0m\n",
      "\u001b[0;31mTypeError\u001b[0m: iteration over a 0-d array"
     ]
    }
   ],
   "source": [
    "pre_process = PreprocessStrToEmail()\n",
    "pre_process.fit_transform(_data)"
   ]
  },
  {
   "cell_type": "code",
   "execution_count": 8,
   "id": "published-bandwidth",
   "metadata": {},
   "outputs": [],
   "source": [
    "#Using stratifies shuffle to obtain a roughly similar ratio:\n",
    "sss = StratifiedShuffleSplit(n_splits=1, test_size=0.2, random_state=42)\n",
    "for train_index, test_index in sss.split(_data, _target):\n",
    "    X_strat_train_set = _data[train_index]\n",
    "    X_strat_test_set =  _data[test_index]\n",
    "    Y_strat_train_set = _target[train_index]\n",
    "    Y_strat_test_set = _target[test_index]"
   ]
  },
  {
   "cell_type": "code",
   "execution_count": 10,
   "id": "given-detective",
   "metadata": {},
   "outputs": [
    {
     "name": "stdout",
     "output_type": "stream",
     "text": [
      "0.4867029798141621\n"
     ]
    }
   ],
   "source": [
    "#OK, the train set does accurately reflects the data\n",
    "spam_occurrences = np.count_nonzero(Y_strat_train_set == 'spam')\n",
    "ham_occurrences = np.count_nonzero(Y_strat_train_set == 'ham')\n",
    "print(spam_occurrences/ham_occurrences)"
   ]
  },
  {
   "cell_type": "code",
   "execution_count": null,
   "id": "guided-cherry",
   "metadata": {},
   "outputs": [],
   "source": []
  },
  {
   "cell_type": "code",
   "execution_count": null,
   "id": "smooth-laundry",
   "metadata": {},
   "outputs": [],
   "source": []
  }
 ],
 "metadata": {
  "kernelspec": {
   "display_name": "Python 3",
   "language": "python",
   "name": "python3"
  },
  "language_info": {
   "codemirror_mode": {
    "name": "ipython",
    "version": 3
   },
   "file_extension": ".py",
   "mimetype": "text/x-python",
   "name": "python",
   "nbconvert_exporter": "python",
   "pygments_lexer": "ipython3",
   "version": "3.6.9"
  }
 },
 "nbformat": 4,
 "nbformat_minor": 5
}
