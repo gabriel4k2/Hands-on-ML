{
 "cells": [
  {
   "cell_type": "code",
   "execution_count": 1,
   "id": "processed-indian",
   "metadata": {},
   "outputs": [],
   "source": [
    "from sklearn.datasets import fetch_openml\n",
    "from sklearn.linear_model import SGDClassifier\n",
    "from sklearn.model_selection import StratifiedKFold, cross_val_score, cross_val_predict\n",
    "from sklearn.base import clone\n",
    "from sklearn.metrics  import precision_score, recall_score, confusion_matrix, f1_score\n",
    "from sklearn.metrics import precision_recall_curve, roc_curve\n",
    "from sklearn.ensemble import RandomForestClassifier\n",
    "from sklearn.svm import SVC\n",
    "from sklearn.neighbors import KNeighborsClassifier\n",
    "\n",
    "import matplotlib as mpl\n",
    "import numpy as np\n",
    "np.random.seed(42)\n",
    "\n",
    "\n",
    "import matplotlib.pyplot as plt\n",
    "import pandas as pd\n"
   ]
  },
  {
   "cell_type": "code",
   "execution_count": 2,
   "id": "local-coordinate",
   "metadata": {},
   "outputs": [],
   "source": [
    "#functions\n",
    "def plot_precision_recall_vs_thresholds(precisions, recalls, thresholds):\n",
    "    plt.plot(thresholds, precisions[:-1], \"b--\", label=\"Precision\")\n",
    "    plt.plot(thresholds, recalls[:-1], \"g-\", label=\"Recall\")\n",
    "    plt.legend(loc='center right', frameon=False)\n",
    "    plt.xlabel('Threshold', fontsize=14)\n",
    "\n",
    "def plot_roc_curve(fpr, tpr, label=None):\n",
    "    plt.plot(fpr, tpr, label=label)\n",
    "    plt.plot([0,1], [0,1], 'k--')\n",
    "    plt.xlabel('FPR', fontsize=14)\n",
    "    plt.xlabel('TPR', fontsize=14)\n",
    "\n"
   ]
  },
  {
   "cell_type": "code",
   "execution_count": 3,
   "id": "mathematical-edwards",
   "metadata": {},
   "outputs": [
    {
     "data": {
      "text/plain": [
       "dict_keys(['data', 'target', 'frame', 'categories', 'feature_names', 'target_names', 'DESCR', 'details', 'url'])"
      ]
     },
     "execution_count": 3,
     "metadata": {},
     "output_type": "execute_result"
    }
   ],
   "source": [
    "#Without \"as_frame\" turned to false, it will bring a pandas frame instead of a numpy array, therefore\n",
    "#it will be harder to address individual elements (panda element is acessed with iloc)\n",
    "mnist = fetch_openml('mnist_784', version=1, as_frame= False )\n",
    "mnist.keys()"
   ]
  },
  {
   "cell_type": "code",
   "execution_count": 4,
   "id": "average-league",
   "metadata": {},
   "outputs": [],
   "source": [
    "X= mnist[\"data\"]\n",
    "y = mnist[\"target\"]"
   ]
  },
  {
   "cell_type": "code",
   "execution_count": 5,
   "id": "consolidated-expert",
   "metadata": {},
   "outputs": [
    {
     "data": {
      "text/plain": [
       "(70000, 784)"
      ]
     },
     "execution_count": 5,
     "metadata": {},
     "output_type": "execute_result"
    }
   ],
   "source": [
    "#datasets loaded with scikit learn have a row per instance and each row has a column foreach feature,\n",
    "# in this case, there are 70k pictures and each has 784 features (28x28 pixels)\n",
    "X.shape\n"
   ]
  },
  {
   "cell_type": "code",
   "execution_count": 6,
   "id": "touched-english",
   "metadata": {},
   "outputs": [
    {
     "data": {
      "text/plain": [
       "(-0.5, 27.5, 27.5, -0.5)"
      ]
     },
     "execution_count": 6,
     "metadata": {},
     "output_type": "execute_result"
    },
    {
     "data": {
      "image/png": "[encoded data removed]",
      "text/plain": [
       "<Figure size 432x288 with 1 Axes>"
      ]
     },
     "metadata": {
      "needs_background": "light"
     },
     "output_type": "display_data"
    }
   ],
   "source": [
    "some_digit = X[0] \n",
    "some_digit_image = some_digit.reshape(28,28)\n",
    "plt.imshow(some_digit_image, cmap='binary')\n",
    "plt.axis('off')"
   ]
  },
  {
   "cell_type": "code",
   "execution_count": 7,
   "id": "ordered-scoop",
   "metadata": {},
   "outputs": [],
   "source": [
    "y = y.astype(np.uint8)"
   ]
  },
  {
   "cell_type": "code",
   "execution_count": 8,
   "id": "boxed-gentleman",
   "metadata": {},
   "outputs": [],
   "source": [
    "#scikit learn datasets is already shuffled, easy to collect tests and train datasets\n",
    "X_train, X_test, y_train, y_test = X[:60000], X[60000:], y[:60000], y[60000:]"
   ]
  },
  {
   "cell_type": "code",
   "execution_count": 9,
   "id": "bacterial-house",
   "metadata": {},
   "outputs": [],
   "source": [
    "y_train_5 = (y_train == 5)\n",
    "y_test_5 = (y_test == 5)"
   ]
  },
  {
   "cell_type": "code",
   "execution_count": 10,
   "id": "expensive-hammer",
   "metadata": {},
   "outputs": [
    {
     "data": {
      "text/plain": [
       "SGDClassifier()"
      ]
     },
     "execution_count": 10,
     "metadata": {},
     "output_type": "execute_result"
    }
   ],
   "source": [
    "sgd_clf = SGDClassifier()\n",
    "sgd_clf.fit(X_train, y_train_5)\n"
   ]
  },
  {
   "cell_type": "code",
   "execution_count": 11,
   "id": "engaged-female",
   "metadata": {},
   "outputs": [
    {
     "data": {
      "text/plain": [
       "array([ True])"
      ]
     },
     "execution_count": 11,
     "metadata": {},
     "output_type": "execute_result"
    }
   ],
   "source": [
    "sgd_clf.predict([some_digit])"
   ]
  },
  {
   "cell_type": "code",
   "execution_count": 12,
   "id": "satisfied-politics",
   "metadata": {},
   "outputs": [
    {
     "name": "stdout",
     "output_type": "stream",
     "text": [
      "0.9612\n",
      "0.95095\n",
      "0.9621\n"
     ]
    }
   ],
   "source": [
    "#Strafied k-fold, performs k cross-validations (remember than in a k-fold cross-validation, a dataset is \n",
    "# trained with k-1 subsets and evaluated with 1 dataset, for k times)\n",
    "skfolds = StratifiedKFold(n_splits=3)\n",
    "\n",
    "for train_index, test_index in skfolds.split(X_train, y_train_5):\n",
    "    clone_clf = clone(sgd_clf)\n",
    "    X_train_folds = X_train[train_index]\n",
    "    y_train_folds = y_train_5[train_index]\n",
    "    X_test_folds = X_train[test_index]\n",
    "    y_test_folds = y_train_5[test_index]\n",
    "    \n",
    "    clone_clf.fit(X_train_folds, y_train_folds)\n",
    "    predicted = clone_clf.predict(X_test_folds)\n",
    "    correct_pred =  sum(predicted == y_test_folds)\n",
    "    result = correct_pred/len(y_test_folds)\n",
    "    print(result)\n",
    "    \n",
    "    \n"
   ]
  },
  {
   "cell_type": "code",
   "execution_count": 13,
   "id": "molecular-virginia",
   "metadata": {},
   "outputs": [
    {
     "data": {
      "text/plain": [
       "array([0.97005, 0.97015, 0.9581 ])"
      ]
     },
     "execution_count": 13,
     "metadata": {},
     "output_type": "execute_result"
    }
   ],
   "source": [
    "cross_val_score(sgd_clf, X_train, y_train_5, cv=3, scoring='accuracy')"
   ]
  },
  {
   "cell_type": "code",
   "execution_count": 14,
   "id": "packed-iceland",
   "metadata": {},
   "outputs": [],
   "source": [
    "y_train_pred = cross_val_predict(sgd_clf, X_train, y_train_5, cv=3)\n"
   ]
  },
  {
   "cell_type": "markdown",
   "id": "spectacular-words",
   "metadata": {},
   "source": [
    " Accuracy is *generally* terrible for classification problems (for instance: we could have a predictor that says \\\n",
    " that every number is not 5, it would be accurate about 9/10 of times...)\n",
    " Therefore there must be a better way: confusion matrix. Such matrix has each line for a instance in  the dataset (cat,dogs,birds or 5/not fives) and each column is the evalated class by the algorithms:\n",
    " \n",
    " \n",
    "| not-fives\n",
    "\n",
    "\n",
    "| fives\n",
    "\n"
   ]
  },
  {
   "cell_type": "code",
   "execution_count": 15,
   "id": "monetary-egyptian",
   "metadata": {},
   "outputs": [
    {
     "data": {
      "text/plain": [
       "array([[54111,   468],\n",
       "       [ 1997,  3424]])"
      ]
     },
     "execution_count": 15,
     "metadata": {},
     "output_type": "execute_result"
    }
   ],
   "source": [
    "confusion_matrix(y_train_5, y_train_pred)"
   ]
  },
  {
   "cell_type": "markdown",
   "id": "surrounded-earthquake",
   "metadata": {},
   "source": [
    " A somewhat better way would be *precision*: simply take the ratio of all actually true positive preditions by actually all true positive predictions and false positives:<br>\n",
    "                         **precision** = TP/(TP+FP).<br>\n",
    "However this can be cheated by simply having a single positive, and ensuring that this single positive is correct.\n",
    "Therefore the precision would be prec= TP/TP = 1/1= 100%!\n"
   ]
  },
  {
   "cell_type": "markdown",
   "id": "purple-prize",
   "metadata": {},
   "source": [
    " To avoid this problem, another metric is used **along** precision, the *recall*:\n",
    "                        recall = TP/TP+FN.\n",
    "Remember that false negative is a instance that actually is true, but gets judge as false by the algorithm. Therefore recall only looks at the class we want to know (all true 5's in the examples above)"
   ]
  },
  {
   "cell_type": "code",
   "execution_count": 16,
   "id": "polar-helen",
   "metadata": {},
   "outputs": [
    {
     "data": {
      "text/plain": [
       "0.8797533401849948"
      ]
     },
     "execution_count": 16,
     "metadata": {},
     "output_type": "execute_result"
    }
   ],
   "source": [
    "precision_score(y_train_5, y_train_pred)"
   ]
  },
  {
   "cell_type": "code",
   "execution_count": 17,
   "id": "searching-irrigation",
   "metadata": {},
   "outputs": [
    {
     "data": {
      "text/plain": [
       "0.6316177826969194"
      ]
     },
     "execution_count": 17,
     "metadata": {},
     "output_type": "execute_result"
    }
   ],
   "source": [
    "recall_score(y_train_5, y_train_pred)"
   ]
  },
  {
   "cell_type": "markdown",
   "id": "utility-directive",
   "metadata": {},
   "source": [
    "*F1 score* is a way to combine both recall and precision. The F1 score is simply a harmonic mean between precision and recall:\n",
    "F1 = 2/[(precision)^-1+ (recall)^-1].<br>\n",
    "Remember that a harmonic mean \"punishes\" if there are low values, this is, no matter how high precision/recall is if the recall/precision is low F1 will be realtively low"
   ]
  },
  {
   "cell_type": "code",
   "execution_count": 18,
   "id": "smoking-recall",
   "metadata": {},
   "outputs": [
    {
     "data": {
      "text/plain": [
       "0.7353162246322344"
      ]
     },
     "execution_count": 18,
     "metadata": {},
     "output_type": "execute_result"
    }
   ],
   "source": [
    "f1_score(y_train_5, y_train_pred)"
   ]
  },
  {
   "cell_type": "markdown",
   "id": "focused-consistency",
   "metadata": {},
   "source": [
    "A classifier returns a decision score threshold, each instance with decision score below  the threshold will be labeled as \"negative\", whereas instances with higher decision scores than the threshold will be labeled as \"positive\". We can get the threshold from *decision_function()* and manually apply  transformations to this value (example could improve accuracy by impossing a new threshold that is higher than the previous one)."
   ]
  },
  {
   "cell_type": "code",
   "execution_count": 19,
   "id": "statutory-electron",
   "metadata": {},
   "outputs": [],
   "source": [
    "y_scores = sgd_clf.decision_function([some_digit])"
   ]
  },
  {
   "cell_type": "code",
   "execution_count": 20,
   "id": "engaging-agenda",
   "metadata": {},
   "outputs": [
    {
     "data": {
      "text/plain": [
       "array([2164.22030239])"
      ]
     },
     "execution_count": 20,
     "metadata": {},
     "output_type": "execute_result"
    }
   ],
   "source": [
    "y_scores"
   ]
  },
  {
   "cell_type": "markdown",
   "id": "based-power",
   "metadata": {},
   "source": [
    "The default threshold is zero, therefore this digit will be True (meaning it is a 5). A threshold of 3000 for instance, will not classify this digit as a 5, therefore decreasing recall."
   ]
  },
  {
   "cell_type": "code",
   "execution_count": 21,
   "id": "processed-coordination",
   "metadata": {},
   "outputs": [],
   "source": [
    "#let's get the precision score of each instance (the scores, not the prediction, notice the 'decision_function'!)\n",
    "y_scores = cross_val_predict(sgd_clf, X_train, y_train_5,cv=3, method='decision_function')"
   ]
  },
  {
   "cell_type": "code",
   "execution_count": null,
   "id": "derived-cable",
   "metadata": {},
   "outputs": [],
   "source": []
  },
  {
   "cell_type": "code",
   "execution_count": 22,
   "id": "rough-representative",
   "metadata": {},
   "outputs": [],
   "source": [
    "precisions, recalls, thresholds = precision_recall_curve(y_train_5, y_scores)"
   ]
  },
  {
   "cell_type": "code",
   "execution_count": 23,
   "id": "continued-monkey",
   "metadata": {},
   "outputs": [
    {
     "name": "stdout",
     "output_type": "stream",
     "text": [
      "60000\n"
     ]
    }
   ],
   "source": [
    "print(len(y_scores))"
   ]
  },
  {
   "cell_type": "code",
   "execution_count": 24,
   "id": "quiet-image",
   "metadata": {},
   "outputs": [
    {
     "name": "stdout",
     "output_type": "stream",
     "text": [
      "59914\n"
     ]
    }
   ],
   "source": [
    "#As we can see the threshold is set  for each unique decision value, and the respective recall and precisions are\n",
    "# evaluated\n",
    "print(len(thresholds))"
   ]
  },
  {
   "cell_type": "code",
   "execution_count": 25,
   "id": "metric-import",
   "metadata": {},
   "outputs": [
    {
     "data": {
      "image/png": "[encoded data removed]",
      "text/plain": [
       "<Figure size 432x288 with 1 Axes>"
      ]
     },
     "metadata": {
      "needs_background": "light"
     },
     "output_type": "display_data"
    }
   ],
   "source": [
    "#PLotting to get a \"feel\" of how precisions and recall vary with a given threshold\n",
    "plot_precision_recall_vs_thresholds(precisions, recalls, thresholds)"
   ]
  },
  {
   "cell_type": "code",
   "execution_count": 26,
   "id": "equipped-double",
   "metadata": {},
   "outputs": [],
   "source": [
    "plt.show()"
   ]
  },
  {
   "cell_type": "markdown",
   "id": "norman-archive",
   "metadata": {},
   "source": [
    "The ROC (receiver operating characteristic) curve is another tool commonly used with binary classificators. It plots *true positive rate* (another name for recall) versus the *false positive rate* (FPR). The FPR is the ratio of negative instances that are incorrectly classified as positive. It is equal to 1-*true negative rate*(TNR), which in turn is the ratio of negative instances that are correctly judged as such. The TNR is also called *specificity*."
   ]
  },
  {
   "cell_type": "code",
   "execution_count": 27,
   "id": "postal-aircraft",
   "metadata": {},
   "outputs": [],
   "source": [
    "fpr, tpr, thresholds = roc_curve(y_train_5, y_scores)"
   ]
  },
  {
   "cell_type": "code",
   "execution_count": 28,
   "id": "dependent-scotland",
   "metadata": {},
   "outputs": [
    {
     "data": {
      "image/png": "[encoded data removed]",
      "text/plain": [
       "<Figure size 432x288 with 1 Axes>"
      ]
     },
     "metadata": {
      "needs_background": "light"
     },
     "output_type": "display_data"
    }
   ],
   "source": [
    "plot_roc_curve(fpr, tpr)"
   ]
  },
  {
   "cell_type": "markdown",
   "id": "corporate-exclusive",
   "metadata": {},
   "source": [
    "Due to the way that RandomForest works, there is no 'decision_function'. What RF outputs is a *predict_proba* method (Scikit-learn classifiers have either or both). The predict_proba is a matrix where each row is a instance and each column is a class, the entry **a_ij** is the probability that the instance 'i' belongs to class 'j'"
   ]
  },
  {
   "cell_type": "code",
   "execution_count": 29,
   "id": "comfortable-latitude",
   "metadata": {},
   "outputs": [],
   "source": [
    "forest_clf = RandomForestClassifier(random_state=42)\n",
    "y_probas_forest = cross_val_predict(forest_clf, X_train, y_train_5, cv=3, method='predict_proba')"
   ]
  },
  {
   "cell_type": "code",
   "execution_count": 30,
   "id": "federal-elimination",
   "metadata": {},
   "outputs": [],
   "source": [
    "y_scores_forest = y_probas_forest[:, 1] #the second column is the positive case\n",
    "fpr_forest, tpr_forest, thresholds_forest = roc_curve(y_train_5, y_scores_forest)"
   ]
  },
  {
   "cell_type": "code",
   "execution_count": 31,
   "id": "disturbed-fence",
   "metadata": {},
   "outputs": [
    {
     "data": {
      "image/png": "[encoded data removed]",
      "text/plain": [
       "<Figure size 432x288 with 1 Axes>"
      ]
     },
     "metadata": {
      "needs_background": "light"
     },
     "output_type": "display_data"
    }
   ],
   "source": [
    "plt.plot(fpr,tpr,\"b:\", label=\"SGD\")\n",
    "plot_roc_curve(fpr_forest, tpr_forest, label=\"RandomForest\")\n",
    "plt.legend(loc=\"center right\")\n",
    "plt.show()"
   ]
  },
  {
   "cell_type": "markdown",
   "id": "standard-medicare",
   "metadata": {},
   "source": [
    "As we can see, the root tilts up-left with the Random Forest algorithm, thus it is a good indicator that it has performed better..."
   ]
  },
  {
   "cell_type": "code",
   "execution_count": 32,
   "id": "decent-abraham",
   "metadata": {},
   "outputs": [
    {
     "data": {
      "text/plain": [
       "SVC()"
      ]
     },
     "execution_count": 32,
     "metadata": {},
     "output_type": "execute_result"
    }
   ],
   "source": [
    "svm_clf = SVC()\n",
    "svm_clf.fit(X_train, y_train)\n"
   ]
  },
  {
   "cell_type": "code",
   "execution_count": 33,
   "id": "innocent-blair",
   "metadata": {},
   "outputs": [
    {
     "data": {
      "text/plain": [
       "array([5], dtype=uint8)"
      ]
     },
     "execution_count": 33,
     "metadata": {},
     "output_type": "execute_result"
    }
   ],
   "source": [
    "svm_clf.predict([some_digit])"
   ]
  },
  {
   "cell_type": "code",
   "execution_count": 34,
   "id": "imperial-armstrong",
   "metadata": {},
   "outputs": [],
   "source": [
    "some_digit_scores = svm_clf.decision_function([some_digit])"
   ]
  },
  {
   "cell_type": "code",
   "execution_count": 35,
   "id": "fallen-donna",
   "metadata": {},
   "outputs": [
    {
     "data": {
      "text/plain": [
       "array([[ 1.72501977,  2.72809088,  7.2510018 ,  8.3076379 , -0.31087254,\n",
       "         9.3132482 ,  1.70975103,  2.76765202,  6.23049537,  4.84771048]])"
      ]
     },
     "execution_count": 35,
     "metadata": {},
     "output_type": "execute_result"
    }
   ],
   "source": [
    "some_digit_scores #Notice that the highest possible value is the 6th: 9.31 (representing the digit 5)"
   ]
  },
  {
   "cell_type": "code",
   "execution_count": 36,
   "id": "orange-classroom",
   "metadata": {},
   "outputs": [],
   "source": [
    "y_train_pred = cross_val_predict(sgd_clf, X_train, y_train, cv=3)\n"
   ]
  },
  {
   "cell_type": "code",
   "execution_count": 37,
   "id": "legal-brunei",
   "metadata": {},
   "outputs": [],
   "source": [
    "conf_mx = confusion_matrix(y_train, y_train_pred)"
   ]
  },
  {
   "cell_type": "code",
   "execution_count": 38,
   "id": "median-liability",
   "metadata": {},
   "outputs": [
    {
     "name": "stdout",
     "output_type": "stream",
     "text": [
      "[[5619    0   19   38    6   25   67    2  129   18]\n",
      " [   2 6331   35   78    3   28   20   13  214   18]\n",
      " [  46   61 4686  434   56   26  162   61  396   30]\n",
      " [  19   17  104 5371    9  200   26   48  257   80]\n",
      " [  22   14   28   34 4842   56  104   15  217  510]\n",
      " [  59   16   38  449   57 3880  182   20  588  132]\n",
      " [  38    7   72   10   29   57 5602    0  101    2]\n",
      " [  25   13   51   72   59   28    7 5470  102  438]\n",
      " [  37   62   77  254   20  133   59    8 5050  151]\n",
      " [  24   18   15  111   83   86    5  127  141 5339]]\n"
     ]
    }
   ],
   "source": [
    "print(conf_mx)"
   ]
  },
  {
   "cell_type": "code",
   "execution_count": 39,
   "id": "worst-motor",
   "metadata": {},
   "outputs": [
    {
     "data": {
      "image/png": "[encoded data removed]",
      "text/plain": [
       "<Figure size 288x288 with 1 Axes>"
      ]
     },
     "metadata": {
      "needs_background": "light"
     },
     "output_type": "display_data"
    }
   ],
   "source": [
    "#Showing the confusion as a \"heat map\".\n",
    "plt.matshow(conf_mx, cmap=plt.cm.gray)\n",
    "plt.show()"
   ]
  },
  {
   "cell_type": "markdown",
   "id": "ranking-triple",
   "metadata": {},
   "source": [
    "To get a better feeling of the model's prediction, it is better to normalize each row to get recalls and  false negatives for each instance (rows):"
   ]
  },
  {
   "cell_type": "code",
   "execution_count": 40,
   "id": "numerical-religion",
   "metadata": {},
   "outputs": [],
   "source": [
    "\n",
    "\n",
    "row_sums = conf_mx.sum(axis=1, keepdims=True)\n",
    "norm_conf_matrix = conf_mx/row_sums"
   ]
  },
  {
   "cell_type": "code",
   "execution_count": 41,
   "id": "dynamic-attitude",
   "metadata": {},
   "outputs": [
    {
     "data": {
      "image/png": "[encoded data removed]",
      "text/plain": [
       "<Figure size 288x288 with 1 Axes>"
      ]
     },
     "metadata": {
      "needs_background": "light"
     },
     "output_type": "display_data"
    }
   ],
   "source": [
    "plt.matshow(norm_conf_matrix, cmap=plt.cm.gray)\n",
    "plt.show()"
   ]
  },
  {
   "cell_type": "markdown",
   "id": "standing-pipeline",
   "metadata": {},
   "source": [
    "As we can see the detection of 8's has low precision (too much false positives), interesting enough is that\n",
    " the row corresponding to 8 is dark except its diagonal (conf_mx_8_8). Therefore it has good recall for 8.\n",
    "\n"
   ]
  },
  {
   "cell_type": "markdown",
   "id": "suited-inclusion",
   "metadata": {},
   "source": [
    "If we want multilabel classification, such as whether each train input is odd *and* larger than a number, then KNeighors is a good idea:"
   ]
  },
  {
   "cell_type": "code",
   "execution_count": 42,
   "id": "acute-crossing",
   "metadata": {},
   "outputs": [],
   "source": [
    "y_train_large = (y_train >= 8)\n",
    "y_train_odd = (y_train % 2 == 1)\n",
    "y_multilabel = np.c_[y_train_large, y_train_odd]"
   ]
  },
  {
   "cell_type": "code",
   "execution_count": 43,
   "id": "impaired-landing",
   "metadata": {},
   "outputs": [
    {
     "data": {
      "text/plain": [
       "KNeighborsClassifier()"
      ]
     },
     "execution_count": 43,
     "metadata": {},
     "output_type": "execute_result"
    }
   ],
   "source": [
    "knn_clf = KNeighborsClassifier()\n",
    "knn_clf.fit(X_train, y_multilabel)"
   ]
  },
  {
   "cell_type": "code",
   "execution_count": 44,
   "id": "stupid-static",
   "metadata": {},
   "outputs": [
    {
     "data": {
      "text/plain": [
       "array([[False,  True]])"
      ]
     },
     "execution_count": 44,
     "metadata": {},
     "output_type": "execute_result"
    }
   ],
   "source": [
    "knn_clf.predict([some_digit])"
   ]
  },
  {
   "cell_type": "code",
   "execution_count": 45,
   "id": "royal-manner",
   "metadata": {},
   "outputs": [],
   "source": [
    "#generating noisy images and making the test set the original images\n",
    "noise = np.random.randint(0,100, (len(X_train), 784))\n",
    "X_train_noisy = X_train + noise\n",
    "noise = np.random.randint(0,100, (len(X_test), 784))\n",
    "X_test_noisy = X_test + noise\n",
    "y_train_noisy = X_train\n",
    "y_test_noisy = X_test\n"
   ]
  },
  {
   "cell_type": "code",
   "execution_count": 46,
   "id": "automated-madagascar",
   "metadata": {},
   "outputs": [],
   "source": [
    "some_noisy_digit = X_train_noisy[0] \n",
    "some_noisy_digit_image = some_noisy_digit.reshape(28,28)"
   ]
  },
  {
   "cell_type": "code",
   "execution_count": 47,
   "id": "assisted-replication",
   "metadata": {},
   "outputs": [
    {
     "data": {
      "text/plain": [
       "<matplotlib.image.AxesImage at 0x7f042ad530f0>"
      ]
     },
     "execution_count": 47,
     "metadata": {},
     "output_type": "execute_result"
    },
    {
     "data": {
      "image/png": "[encoded data removed]",
      "text/plain": [
       "<Figure size 432x288 with 1 Axes>"
      ]
     },
     "metadata": {
      "needs_background": "light"
     },
     "output_type": "display_data"
    }
   ],
   "source": [
    "plt.imshow(some_noisy_digit_image, cmap='binary')\n"
   ]
  },
  {
   "cell_type": "code",
   "execution_count": 48,
   "id": "corresponding-survivor",
   "metadata": {},
   "outputs": [
    {
     "data": {
      "text/plain": [
       "KNeighborsClassifier()"
      ]
     },
     "execution_count": 48,
     "metadata": {},
     "output_type": "execute_result"
    }
   ],
   "source": [
    "knn_clf.fit(X_train_noisy, y_train_noisy)"
   ]
  },
  {
   "cell_type": "code",
   "execution_count": 49,
   "id": "exterior-equation",
   "metadata": {},
   "outputs": [
    {
     "data": {
      "text/plain": [
       "<matplotlib.image.AxesImage at 0x7f042acbbf98>"
      ]
     },
     "execution_count": 49,
     "metadata": {},
     "output_type": "execute_result"
    },
    {
     "data": {
      "image/png": "[encoded data removed]",
      "text/plain": [
       "<Figure size 432x288 with 1 Axes>"
      ]
     },
     "metadata": {
      "needs_background": "light"
     },
     "output_type": "display_data"
    }
   ],
   "source": [
    "clean_digit = knn_clf.predict([some_noisy_digit])\n",
    "clean_digit_image = clean_digit.reshape(28,28)\n",
    "plt.imshow(clean_digit_image, cmap='binary')\n"
   ]
  },
  {
   "cell_type": "code",
   "execution_count": null,
   "id": "crazy-plenty",
   "metadata": {},
   "outputs": [],
   "source": []
  }
 ],
 "metadata": {
  "kernelspec": {
   "display_name": "Python 3",
   "language": "python",
   "name": "python3"
  },
  "language_info": {
   "codemirror_mode": {
    "name": "ipython",
    "version": 3
   },
   "file_extension": ".py",
   "mimetype": "text/x-python",
   "name": "python",
   "nbconvert_exporter": "python",
   "pygments_lexer": "ipython3",
   "version": "3.6.9"
  }
 },
 "nbformat": 4,
 "nbformat_minor": 5
}
